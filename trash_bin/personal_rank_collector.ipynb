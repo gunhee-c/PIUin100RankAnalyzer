{
 "cells": [
  {
   "cell_type": "code",
   "execution_count": 1,
   "metadata": {},
   "outputs": [],
   "source": [
    "#todo:\n",
    "#Rank of in 100 Users: #Restricted by: Mode & Level\n",
    "#Rank-weighted / Rank-non-weighted\n",
    "#Absolute Rank, ratio of rank\n",
    "#Compare Ranker's rival ranking data\n",
    "#How many wins and losses: /\n",
    "\n",
    "#Personal Ranking Data:\n",
    "#Collect all in-100 users' ranking data\n",
    "#sort by rank / sort by level - rank\n",
    "\n",
    "\n",
    "#DB:\n",
    "#song, level, type, user_name, user_ID, score, rank\n",
    "#https://piugame.com/leaderboard/over_ranking.php?lv=26&search=&&page=2\n",
    "#20: 19페이지\n",
    "#21: 19페이지\n",
    "#22: 14페이지\n",
    "#23: 10페이지\n",
    "#24: 7페이지\n",
    "#25: 4페이지\n",
    "#26: 2페이지\n",
    "#27over: 1페이지\n",
    "\n"
   ]
  },
  {
   "cell_type": "code",
   "execution_count": 2,
   "metadata": {},
   "outputs": [],
   "source": [
    "def get_user_set_unit(rank):\n",
    "    user_set = set()\n",
    "    for item in rank:\n",
    "        for instance in rank[item]:\n",
    "            user_set.add(instance[\"username\"] + \" \" + instance[\"userid\"])\n",
    "\n",
    "    return user_set\n",
    "\n",
    "#전체 랭킹 데이터에 포함된 user명의 set을 구함 user_name + \" \" + user_id\n",
    "def get_user_set(ranks):\n",
    "    user_set = set()\n",
    "    for rank in ranks:\n",
    "        user_set = user_set.union(get_user_set_unit(rank))\n",
    "    return user_set\n",
    "\n",
    "#중복된 유저명이 있는지 확인\n",
    "def get_duplicate_usernames_dict(user_set):\n",
    "    user_dict = {}\n",
    "    for user in user_set:\n",
    "        username = user.split()[0]\n",
    "        if username not in user_dict:\n",
    "            user_dict[username] = [user.split()[1]]\n",
    "        else:\n",
    "            user_dict[username].append(user.split()[1])\n",
    "\n",
    "    filtered_dict = {k: v for k, v in user_dict.items() if len(v) > 1}\n",
    "    return filtered_dict\n",
    "\n",
    "def find_user(data, username, user_id = None):\n",
    "    if user_id != None:\n",
    "        if type(user_id) == int:\n",
    "            user_id = \"#\"+ str(user_id)\n",
    "    #print(user_id)\n",
    "    instances = []\n",
    "    for item in data:\n",
    "        for instance in data[item]:\n",
    "            if instance[\"username\"] == username and (user_id == None or instance[\"userid\"] == user_id):\n",
    "                instances.append(instance)\n",
    "    return instances\n",
    "\n",
    "#Username/user_id가 일치하는 랭킹 정보를 수집함\n",
    "def find_user_all(ranks, username, user_id = None):\n",
    "    ans = []\n",
    "    for instance in ranks:\n",
    "        instances = find_user(instance, username, user_id)\n",
    "        ans.append(instances)\n",
    "    flattened_ans = [val for sublist in ans for val in sublist]\n",
    "    return flattened_ans\n",
    "\n",
    "#모든 유저의 랭킹 정보를 수집함 모든 유저들을 포함하는 집합을 만들고 그 유저들의 랭킹 정보를 수집함\n",
    "def collect_all_userdata(ranks):\n",
    "    user_set = get_user_set(ranks)\n",
    "    user_dict = {}\n",
    "    for user in user_set:\n",
    "        username = user.split()[0]\n",
    "        user_id = user.split()[1]\n",
    "        instances = find_user_all(ranks, username, user_id)\n",
    "        user_dict[user] = instances\n",
    "    return user_dict"
   ]
  },
  {
   "cell_type": "code",
   "execution_count": 3,
   "metadata": {},
   "outputs": [
    {
     "name": "stdout",
     "output_type": "stream",
     "text": [
      "[{'song': '1949', 'mode': 'Double', 'level': 26, 'username': 'OTDS', 'userid': '#4011', 'score': 941162, 'rank': 16}, {'song': 'Achluoias', 'mode': 'Double', 'level': 26, 'username': 'OTDS', 'userid': '#4011', 'score': 944937, 'rank': 21}, {'song': 'Aragami', 'mode': 'Double', 'level': 26, 'username': 'OTDS', 'userid': '#4011', 'score': 922931, 'rank': 36}, {'song': 'BEMERA', 'mode': 'Double', 'level': 26, 'username': 'OTDS', 'userid': '#4011', 'score': 872688, 'rank': 60}, {'song': 'Brown Sky', 'mode': 'Double', 'level': 26, 'username': 'OTDS', 'userid': '#4011', 'score': 888079, 'rank': 34}, {'song': 'Chimera', 'mode': 'Double', 'level': 26, 'username': 'OTDS', 'userid': '#4011', 'score': 934605, 'rank': 30}, {'song': 'Cleaner', 'mode': 'Double', 'level': 26, 'username': 'OTDS', 'userid': '#4011', 'score': 951124, 'rank': 25}, {'song': 'Dement ~After Legend~', 'mode': 'Double', 'level': 26, 'username': 'OTDS', 'userid': '#4011', 'score': 932067, 'rank': 33}, {'song': 'Dignity', 'mode': 'Double', 'level': 26, 'username': 'OTDS', 'userid': '#4011', 'score': 936055, 'rank': 22}, {'song': 'ESCAPE', 'mode': 'Double', 'level': 26, 'username': 'OTDS', 'userid': '#4011', 'score': 916825, 'rank': 51}, {'song': 'GOOD NIGHT - FULL SONG -', 'mode': 'Double', 'level': 26, 'username': 'OTDS', 'userid': '#4011', 'score': 945233, 'rank': 17}, {'song': 'iRELLiA', 'mode': 'Double', 'level': 26, 'username': 'OTDS', 'userid': '#4011', 'score': 933118, 'rank': 27}, {'song': 'Kokugen Kairou Labyrinth', 'mode': 'Double', 'level': 26, 'username': 'OTDS', 'userid': '#4011', 'score': 958009, 'rank': 27}, {'song': 'Leather', 'mode': 'Double', 'level': 26, 'username': 'OTDS', 'userid': '#4011', 'score': 934279, 'rank': 37}, {'song': 'Paradoxx - SHORT CUT -', 'mode': 'Double', 'level': 26, 'username': 'OTDS', 'userid': '#4011', 'score': 913980, 'rank': 36}, {'song': 'PRiMA MATERiA', 'mode': 'Double', 'level': 26, 'username': 'OTDS', 'userid': '#4011', 'score': 908926, 'rank': 25}, {'song': 'Prime Time', 'mode': 'Double', 'level': 26, 'username': 'OTDS', 'userid': '#4011', 'score': 911722, 'rank': 29}, {'song': 'Repentance', 'mode': 'Double', 'level': 26, 'username': 'OTDS', 'userid': '#4011', 'score': 958725, 'rank': 22}, {'song': 'Shub Niggurath', 'mode': 'Double', 'level': 26, 'username': 'OTDS', 'userid': '#4011', 'score': 924083, 'rank': 33}, {'song': 'Telling Fortune Flower', 'mode': 'Double', 'level': 26, 'username': 'OTDS', 'userid': '#4011', 'score': 943784, 'rank': 23}, {'song': 'Vacuum Cleaner', 'mode': 'Double', 'level': 26, 'username': 'OTDS', 'userid': '#4011', 'score': 921749, 'rank': 37}]\n"
     ]
    }
   ],
   "source": [
    "import json\n",
    "\n",
    "rank_27over = json.load(open(\"rankdata_27over.json\"))\n",
    "rank_26 = json.load(open(\"rankdata_26.json\"))\n",
    "rank_25 = json.load(open(\"rankdata_25.json\"))\n",
    "rank_24 = json.load(open(\"rankdata_24.json\"))\n",
    "rank_23 = json.load(open(\"rankdata_23.json\"))\n",
    "rank_22 = json.load(open(\"rankdata_22.json\"))\n",
    "rank_21 = json.load(open(\"rankdata_21.json\"))\n",
    "rank_20 = json.load(open(\"rankdata_20.json\"))\n",
    "rank_all = [rank_27over, rank_26, rank_25, rank_24, rank_23, rank_22, rank_21, rank_20]\n",
    "\n",
    "print(find_user(rank_26, \"OTDS\", \"#4011\"))\n",
    "total_rank_raw = collect_all_userdata(rank_all)\n"
   ]
  },
  {
   "cell_type": "code",
   "execution_count": 23,
   "metadata": {},
   "outputs": [
    {
     "name": "stdout",
     "output_type": "stream",
     "text": [
      "868\n",
      "0\n",
      "219\n",
      "[]\n"
     ]
    },
    {
     "data": {
      "text/plain": [
       "('Arcade', 'PRIME - PRIME 2')"
      ]
     },
     "execution_count": 23,
     "metadata": {},
     "output_type": "execute_result"
    }
   ],
   "source": [
    "#Check validity of songList_temp\n",
    "\n",
    "import pandas as pd\n",
    "song_csv = pd.read_csv('songList_temp.csv')\n",
    "\n",
    "len_origin = 0\n",
    "list_songs = list(song_csv[\"song\"])\n",
    "#Check if all songs are in the songlist\n",
    "for rank in rank_all:\n",
    "    checklist = []\n",
    "    unchecklist = []\n",
    "    songlist = list(rank.keys())\n",
    "    len_origin += len(songlist)\n",
    "    for item in songlist:\n",
    "        checkme = item[:-9]\n",
    "        #print(checkme)\n",
    "        if checkme not in list_songs:\n",
    "            checklist.append(checkme)\n",
    "        else:\n",
    "            unchecklist.append(checkme)\n",
    "\n",
    "print(len_origin)\n",
    "print(len(checklist))\n",
    "print(len(unchecklist))\n",
    "print(checklist)\n",
    "\n",
    "song_csv[\"song\"][1]\n",
    "\n",
    "def get_song_info(song_csv, song_name):\n",
    "    for i in range(len(song_csv[\"song\"])):\n",
    "        if song_csv[\"song\"][i].lower() == song_name.lower():\n",
    "            song_type = song_csv[\"song_type\"][i]\n",
    "            song_version = song_csv[\"version\"][i]\n",
    "            return song_type, song_version\n",
    "    print(\"Song not found in the songlist\")\n",
    "    return \"N/A\", \"N/A\"\n",
    "\n",
    "get_song_info(song_csv, \"Requiem\")\n",
    "\n"
   ]
  },
  {
   "cell_type": "code",
   "execution_count": 13,
   "metadata": {},
   "outputs": [],
   "source": [
    "total_rank_raw[\"ABEL #9109\"]\n",
    "\n",
    "def add_songtype_and_version_unit(song_csv, user_rankdata):\n",
    "    for instance in user_rankdata:\n",
    "        songname = instance[\"song\"]\n",
    "        songtype, songversion = get_song_info(song_csv, songname)\n",
    "        instance[\"type\"] = songtype\n",
    "        instance[\"version\"] = songversion\n",
    "\n",
    "def add_songtype_and_version(song_csv, user_rankdata):\n",
    "    for item in user_rankdata:\n",
    "        add_songtype_and_version_unit(song_csv, user_rankdata[item])\n",
    "\n",
    "#add_songtype_and_version(song_csv, total_rank_raw)"
   ]
  },
  {
   "cell_type": "code",
   "execution_count": 10,
   "metadata": {},
   "outputs": [
    {
     "ename": "NameError",
     "evalue": "name 'json' is not defined",
     "output_type": "error",
     "traceback": [
      "\u001b[1;31m---------------------------------------------------------------------------\u001b[0m",
      "\u001b[1;31mNameError\u001b[0m                                 Traceback (most recent call last)",
      "Cell \u001b[1;32mIn[10], line 2\u001b[0m\n\u001b[0;32m      1\u001b[0m \u001b[38;5;66;03m#json.dump(total_rank_raw, open(\"total_rank_with_songdata.json\", \"w\"))\u001b[39;00m\n\u001b[1;32m----> 2\u001b[0m test \u001b[38;5;241m=\u001b[39m json\u001b[38;5;241m.\u001b[39mload(\u001b[38;5;28mopen\u001b[39m(\u001b[38;5;124m\"\u001b[39m\u001b[38;5;124mtotal_rank_with_songdata.json\u001b[39m\u001b[38;5;124m\"\u001b[39m))\n\u001b[0;32m      4\u001b[0m \u001b[38;5;28mprint\u001b[39m(test[\u001b[38;5;124m\"\u001b[39m\u001b[38;5;124mABEL #9109\u001b[39m\u001b[38;5;124m\"\u001b[39m][\u001b[38;5;241m0\u001b[39m])\n",
      "\u001b[1;31mNameError\u001b[0m: name 'json' is not defined"
     ]
    }
   ],
   "source": [
    "#json.dump(total_rank_raw, open(\"total_rank_with_songdata.json\", \"w\"))\n"
   ]
  },
  {
   "cell_type": "code",
   "execution_count": 25,
   "metadata": {},
   "outputs": [
    {
     "data": {
      "text/plain": [
       "[[20, 24, 43], [0, 1, 2], [0, 1, 1], [0, 0, 6]]"
      ]
     },
     "execution_count": 25,
     "metadata": {},
     "output_type": "execute_result"
    }
   ],
   "source": [
    "#datatype = [[0,0,0],[0,0,0],[0,0,0],[0,0,0]]\n",
    "def DA():\n",
    "    return [[0,0,0],[0,0,0],[0,0,0],[0,0,0]]\n",
    "\n",
    "def songtype_to_int(songtype):\n",
    "    if songtype == \"Arcade\":\n",
    "        return 0\n",
    "    elif songtype == \"Remix\":\n",
    "        return 1\n",
    "    elif songtype == \"Full Song\":\n",
    "        return 2\n",
    "    elif songtype == \"Short Cut\":\n",
    "        return 3\n",
    "    else:\n",
    "        return -1\n",
    "def version_to_int(version):\n",
    "    if version == \"PHOENIX\":\n",
    "        return 0\n",
    "    elif version == \"XX\":\n",
    "        return 1\n",
    "    else:\n",
    "        return 2\n",
    "\n",
    "def get_single_double_count(ranks):\n",
    "    checklist_list = []\n",
    "    for rank in ranks:\n",
    "        checklist = list(rank.keys())\n",
    "        checklist_list.append(checklist)\n",
    "    single_count = {20: DA(), 21: DA(), 22: DA(), 23: DA(), 24: DA(), 25: DA(), 26: DA()}\n",
    "    double_count = {20: DA(), 21: DA(), 22: DA(), 23: DA(), 24: DA(), 25: DA(), 26: DA(), 27: DA(), 28: DA()}\n",
    "    for instance in checklist_list:\n",
    "        for item in instance:\n",
    "            songname = item[:-9]\n",
    "            if songname == \"Requiem \": songname = \"Requiem\"\n",
    "            if songname == \"Phalanx \\\"RS2018 edit\\\"\": songname = \"Phalanx RS2018 edit\"\n",
    "            songtype,version = get_song_info(song_csv, songname)\n",
    "            typeindex, versionindex = songtype_to_int(songtype), version_to_int(version)\n",
    "            if typeindex == -1:\n",
    "                print(songname, \" has invalid songtype\")\n",
    "\n",
    "            level = int(item[-2:])\n",
    "            type = item[-8:-2]\n",
    "            if type == \"Single\":\n",
    "                single_count[level][typeindex][versionindex] += 1\n",
    "            elif type == \"Double\":\n",
    "                double_count[level][typeindex][versionindex] += 1\n",
    "    return {\"Single\": single_count, \"Double\": double_count}\n",
    "total_steps_count = get_single_double_count(rank_all)\n",
    "\n"
   ]
  },
  {
   "cell_type": "code",
   "execution_count": 29,
   "metadata": {},
   "outputs": [],
   "source": [
    "\n",
    "json.dump(total_steps_count, open(\"total_steps_count.json\", \"w\"))"
   ]
  },
  {
   "cell_type": "code",
   "execution_count": 55,
   "metadata": {},
   "outputs": [],
   "source": [
    "def DA_0():\n",
    "    return [[0,0,0],[0,0,0],[0,0,0],[0,0,0]]\n",
    "def DA_l():\n",
    "    return [[[],[],[]],[[],[],[]],[[],[],[]],[[],[],[]]]\n",
    "\n",
    "def songtype_to_int(songtype):\n",
    "    if songtype == \"Arcade\":\n",
    "        return 0\n",
    "    elif songtype == \"Remix\":\n",
    "        return 1\n",
    "    elif songtype == \"Full Song\":\n",
    "        return 2\n",
    "    elif songtype == \"Short Cut\":\n",
    "        return 3\n",
    "    else:\n",
    "        return -1\n",
    "def version_to_int(version):\n",
    "    if version == \"PHOENIX\":\n",
    "        return 0\n",
    "    elif version == \"XX\":\n",
    "        return 1\n",
    "    else:\n",
    "        return 2\n",
    "\n",
    "def restrict_level_range(levels):\n",
    "    if levels[1] > 28: levels[1] = 28\n",
    "    if levels[0] < 20:\n",
    "        levels[0] = 20\n",
    "    return levels\n",
    "\n",
    "def add_dict(a, b):\n",
    "    for item in b:\n",
    "        if item in a:\n",
    "            a[item] += b[item]\n",
    "        else:\n",
    "            a[item] = b[item]\n",
    "    return a\n",
    "\n",
    "def get_song_version_int_list(songtype, version):\n",
    "    songtypeint = []\n",
    "    for item in songtype:\n",
    "        songtypeint.append(songtype_to_int(item))\n",
    "    versionint = []\n",
    "    for item in version:\n",
    "        versionint.append(version_to_int(item))\n",
    "    return songtypeint, versionint\n",
    "\n",
    "version_all = [\"PHOENIX\", \"XX\", \"OLD\"]\n",
    "songtype_all = [\"Arcade\", \"Remix\", \"Full Song\", \"Short Cut\"]\n",
    "\n",
    "class UserRank:\n",
    "    \n",
    "    def __init__(self, key, rank_dict_list):\n",
    "        self.key = key\n",
    "        username, userID = key.split()\n",
    "        self.username = username\n",
    "        self.userID = userID\n",
    "        self.single_data = {key: DA_l() for key in range(20, 27)}\n",
    "        self.single_counts = {key: DA_0() for key in range(20, 27)}\n",
    "        self.double_data = {key: DA_l() for key in range(20, 29)}\n",
    "        self.double_counts = {key: DA_0() for key in range(20, 29)}\n",
    "        self.read_rank_dict(rank_dict_list)\n",
    "\n",
    "            \n",
    "    def read_rank_dict(self, rank_dict_list):\n",
    "        for item in rank_dict_list:\n",
    "\n",
    "            level = item[\"level\"]\n",
    "            mode = item[\"mode\"]\n",
    "            typeint, versionint = songtype_to_int(item[\"type\"]), version_to_int(item[\"version\"])\n",
    "\n",
    "            if mode == \"Single\":\n",
    "                self.single_data[level][typeint][versionint].append(item)\n",
    "                self.single_counts[level][typeint][versionint] += 1\n",
    "            elif mode == \"Double\":\n",
    "                self.double_data[level][typeint][versionint].append(item)\n",
    "                self.double_counts[level][typeint][versionint] += 1\n",
    "\n",
    "    def count_total(self):\n",
    "        count = 0\n",
    "        for level in range(20, 27):\n",
    "            for songtype in range(4):\n",
    "                for version in range(3):\n",
    "                    count += self.single_counts[level][songtype][version]\n",
    "        for level in range(20, 29):\n",
    "            for songtype in range(4):\n",
    "                for version in range(3):\n",
    "                    count += self.double_counts[level][songtype][version]\n",
    "        return count\n",
    "\n",
    "        \n",
    "    def to_dict(self):\n",
    "        return {\n",
    "            \"key\": self.key,\n",
    "            \"username\": self.username,\n",
    "            \"userID\": self.userID,\n",
    "            \"single_data\": self.single_data,\n",
    "            \"single_counts\": self.single_counts,\n",
    "            \"double_data\": self.double_data,\n",
    "            \"double_counts\": self.double_counts\n",
    "        }\n",
    "   \n",
    "    def __str__(self):\n",
    "        return f\"{self.username} ({self.userID}): {self.count_total()}\"\n",
    "\n"
   ]
  },
  {
   "cell_type": "code",
   "execution_count": 15,
   "metadata": {},
   "outputs": [],
   "source": [
    "import json\n",
    "total_rank = json.load(open(\"total_rank_with_songdata.json\"))\n",
    "users = []\n",
    "\n",
    "for item in total_rank:\n",
    "    users.append(UserRank(item, total_rank[item]))\n",
    "\n",
    "users.sort(key = lambda x: x.count_total(), reverse = True)\n"
   ]
  },
  {
   "cell_type": "code",
   "execution_count": 59,
   "metadata": {},
   "outputs": [],
   "source": [
    "users_to_json = [user.to_dict() for user in users]\n",
    "\n",
    "json.dump(users_to_json, open(\"user_rankdata.json\", \"w\"))"
   ]
  },
  {
   "cell_type": "code",
   "execution_count": 58,
   "metadata": {},
   "outputs": [
    {
     "name": "stdout",
     "output_type": "stream",
     "text": [
      "762\n",
      "{'key': 'ABEL #9109', 'username': 'ABEL', 'userID': '#9109', 'single_data': {20: [[[], [], []], [[], [], []], [[], [], []], [[], [], []]], 21: [[[], [], []], [[], [], []], [[], [], []], [[], [], []]], 22: [[[], [], []], [[], [], []], [[], [], []], [[], [], []]], 23: [[[], [], []], [[], [], []], [[], [], []], [[], [], []]], 24: [[[], [], []], [[], [], []], [[], [], []], [[], [], []]], 25: [[[], [], []], [[], [], []], [[], [], []], [[], [], []]], 26: [[[], [], []], [[], [], []], [[], [], []], [[], [], []]]}, 'single_counts': {20: [[0, 0, 0], [0, 0, 0], [0, 0, 0], [0, 0, 0]], 21: [[0, 0, 0], [0, 0, 0], [0, 0, 0], [0, 0, 0]], 22: [[0, 0, 0], [0, 0, 0], [0, 0, 0], [0, 0, 0]], 23: [[0, 0, 0], [0, 0, 0], [0, 0, 0], [0, 0, 0]], 24: [[0, 0, 0], [0, 0, 0], [0, 0, 0], [0, 0, 0]], 25: [[0, 0, 0], [0, 0, 0], [0, 0, 0], [0, 0, 0]], 26: [[0, 0, 0], [0, 0, 0], [0, 0, 0], [0, 0, 0]]}, 'double_data': {20: [[[{'song': 'STAGER', 'mode': 'Double', 'level': 20, 'username': 'ABEL', 'userid': '#9109', 'score': 1000000, 'rank': 1, 'type': 'Arcade', 'version': 'PHOENIX'}], [], [{'song': 'Allegro furioso', 'mode': 'Double', 'level': 20, 'username': 'ABEL', 'userid': '#9109', 'score': 993869, 'rank': 98, 'type': 'Arcade', 'version': 'PRIME - PRIME 2'}, {'song': 'Clue', 'mode': 'Double', 'level': 20, 'username': 'ABEL', 'userid': '#9109', 'score': 990249, 'rank': 67, 'type': 'Arcade', 'version': 'PRIME - PRIME 2'}]], [[], [], []], [[], [], []], [[], [], []]], 21: [[[{'song': 'WHISPER', 'mode': 'Double', 'level': 21, 'username': 'ABEL', 'userid': '#9109', 'score': 993773, 'rank': 94, 'type': 'Arcade', 'version': 'PHOENIX'}], [], [{'song': 'Twist of Fate (feat. Ruriling)', 'mode': 'Double', 'level': 21, 'username': 'ABEL', 'userid': '#9109', 'score': 993629, 'rank': 47, 'type': 'Arcade', 'version': 'PRIME - PRIME 2'}, {'song': 'Witch Doctor #1', 'mode': 'Double', 'level': 21, 'username': 'ABEL', 'userid': '#9109', 'score': 991606, 'rank': 91, 'type': 'Arcade', 'version': 'NX - NXA'}]], [[], [], []], [[], [], []], [[], [], [{'song': 'Kasou Shinja - SHORT CUT -', 'mode': 'Double', 'level': 21, 'username': 'ABEL', 'userid': '#9109', 'score': 983363, 'rank': 87, 'type': 'Short Cut', 'version': 'PRIME - PRIME 2'}]]], 22: [[[{'song': 'Pneumonoultramicroscopicsilicovolcanoconiosis ft. Kagamine Len/GUMI', 'mode': 'Double', 'level': 22, 'username': 'ABEL', 'userid': '#9109', 'score': 993458, 'rank': 91, 'type': 'Arcade', 'version': 'PHOENIX'}], [], []], [[], [{'song': 'Meteo5cience (GADGET mix)', 'mode': 'Double', 'level': 22, 'username': 'ABEL', 'userid': '#9109', 'score': 990778, 'rank': 59, 'type': 'Remix', 'version': 'XX'}], []], [[], [], []], [[], [], []]], 23: [[[], [], []], [[], [], []], [[], [{'song': '8 6 - FULL SONG -', 'mode': 'Double', 'level': 23, 'username': 'ABEL', 'userid': '#9109', 'score': 993370, 'rank': 36, 'type': 'Full Song', 'version': 'XX'}], []], [[], [], []]], 24: [[[], [], [{'song': 'Final Audition Ep. 2-X', 'mode': 'Double', 'level': 24, 'username': 'ABEL', 'userid': '#9109', 'score': 956579, 'rank': 86, 'type': 'Arcade', 'version': 'NX - NXA'}]], [[], [], []], [[], [], []], [[], [], []]], 25: [[[], [{'song': 'Xeroize', 'mode': 'Double', 'level': 25, 'username': 'ABEL', 'userid': '#9109', 'score': 923824, 'rank': 99, 'type': 'Arcade', 'version': 'XX'}], []], [[], [], []], [[], [], []], [[], [{'song': 'Can-can ~Orpheus in The Party Mix~ - SHORT CUT -', 'mode': 'Double', 'level': 25, 'username': 'ABEL', 'userid': '#9109', 'score': 967687, 'rank': 45, 'type': 'Short Cut', 'version': 'XX'}], []]], 26: [[[], [], []], [[], [], []], [[], [], []], [[], [], []]], 27: [[[], [], []], [[], [], []], [[], [], []], [[], [], []]], 28: [[[], [], []], [[], [], []], [[], [], []], [[], [], []]]}, 'double_counts': {20: [[1, 0, 2], [0, 0, 0], [0, 0, 0], [0, 0, 0]], 21: [[1, 0, 2], [0, 0, 0], [0, 0, 0], [0, 0, 1]], 22: [[1, 0, 0], [0, 1, 0], [0, 0, 0], [0, 0, 0]], 23: [[0, 0, 0], [0, 0, 0], [0, 1, 0], [0, 0, 0]], 24: [[0, 0, 1], [0, 0, 0], [0, 0, 0], [0, 0, 0]], 25: [[0, 1, 0], [0, 0, 0], [0, 0, 0], [0, 1, 0]], 26: [[0, 0, 0], [0, 0, 0], [0, 0, 0], [0, 0, 0]], 27: [[0, 0, 0], [0, 0, 0], [0, 0, 0], [0, 0, 0]], 28: [[0, 0, 0], [0, 0, 0], [0, 0, 0], [0, 0, 0]]}}\n"
     ]
    },
    {
     "ename": "KeyError",
     "evalue": "20",
     "output_type": "error",
     "traceback": [
      "\u001b[1;31m---------------------------------------------------------------------------\u001b[0m",
      "\u001b[1;31mKeyError\u001b[0m                                  Traceback (most recent call last)",
      "Cell \u001b[1;32mIn[58], line 9\u001b[0m\n\u001b[0;32m      7\u001b[0m \u001b[38;5;28mprint\u001b[39m(find_user_index(users, \u001b[38;5;124m\"\u001b[39m\u001b[38;5;124mABEL\u001b[39m\u001b[38;5;124m\"\u001b[39m, \u001b[38;5;124m\"\u001b[39m\u001b[38;5;124m#9109\u001b[39m\u001b[38;5;124m\"\u001b[39m))\n\u001b[0;32m      8\u001b[0m \u001b[38;5;28mprint\u001b[39m(users[\u001b[38;5;241m762\u001b[39m]\u001b[38;5;241m.\u001b[39mto_dict())\n\u001b[1;32m----> 9\u001b[0m a \u001b[38;5;241m=\u001b[39m users[\u001b[38;5;241m762\u001b[39m]\u001b[38;5;241m.\u001b[39mreturn_rankcount()\n\u001b[0;32m     10\u001b[0m \u001b[38;5;28mprint\u001b[39m(a)\n",
      "Cell \u001b[1;32mIn[14], line 156\u001b[0m, in \u001b[0;36mUserRank.return_rankcount\u001b[1;34m(self, mode, levels, songtype, version)\u001b[0m\n\u001b[0;32m    154\u001b[0m \u001b[38;5;28;01mdef\u001b[39;00m \u001b[38;5;21mreturn_rankcount\u001b[39m(\u001b[38;5;28mself\u001b[39m, mode \u001b[38;5;241m=\u001b[39m \u001b[38;5;124m\"\u001b[39m\u001b[38;5;124mFull\u001b[39m\u001b[38;5;124m\"\u001b[39m, levels \u001b[38;5;241m=\u001b[39m [\u001b[38;5;241m20\u001b[39m,\u001b[38;5;241m28\u001b[39m], songtype \u001b[38;5;241m=\u001b[39m songtype_all, version \u001b[38;5;241m=\u001b[39m version_all):\n\u001b[0;32m    155\u001b[0m     \u001b[38;5;28;01mif\u001b[39;00m mode \u001b[38;5;241m==\u001b[39m \u001b[38;5;124m\"\u001b[39m\u001b[38;5;124mFull\u001b[39m\u001b[38;5;124m\"\u001b[39m:\n\u001b[1;32m--> 156\u001b[0m         dicta \u001b[38;5;241m=\u001b[39m \u001b[38;5;28mself\u001b[39m\u001b[38;5;241m.\u001b[39mreturn_rankcount_unit(\u001b[38;5;124m\"\u001b[39m\u001b[38;5;124mSingle\u001b[39m\u001b[38;5;124m\"\u001b[39m, levels, songtype, version)\n\u001b[0;32m    157\u001b[0m         dictb \u001b[38;5;241m=\u001b[39m \u001b[38;5;28mself\u001b[39m\u001b[38;5;241m.\u001b[39mreturn_rankcount_unit(\u001b[38;5;124m\"\u001b[39m\u001b[38;5;124mDouble\u001b[39m\u001b[38;5;124m\"\u001b[39m, levels, songtype, version)\n\u001b[0;32m    158\u001b[0m         \u001b[38;5;28;01mreturn\u001b[39;00m add_dict(dicta, dictb)\n",
      "Cell \u001b[1;32mIn[14], line 153\u001b[0m, in \u001b[0;36mUserRank.return_rankcount_unit\u001b[1;34m(self, mode, levels, songtype, version)\u001b[0m\n\u001b[0;32m    151\u001b[0m \u001b[38;5;28;01mfor\u001b[39;00m songtype \u001b[38;5;129;01min\u001b[39;00m songtypeint:\n\u001b[0;32m    152\u001b[0m     \u001b[38;5;28;01mfor\u001b[39;00m version \u001b[38;5;129;01min\u001b[39;00m versionint:\n\u001b[1;32m--> 153\u001b[0m         count[level] \u001b[38;5;241m+\u001b[39m\u001b[38;5;241m=\u001b[39m \u001b[38;5;28mself\u001b[39m\u001b[38;5;241m.\u001b[39msingle_counts[level][songtype][version]\n",
      "\u001b[1;31mKeyError\u001b[0m: 20"
     ]
    }
   ],
   "source": [
    "def find_user_index(users, username, user_id):\n",
    "    for i in range(len(users)):\n",
    "        if users[i].username == username and users[i].userID == user_id:\n",
    "            return i\n",
    "    return -1\n",
    "\n",
    "print(find_user_index(users, \"ABEL\", \"#9109\"))\n",
    "print(users[762].to_dict())\n",
    "a = users[762].return_rankcount()\n",
    "print(a)\n"
   ]
  },
  {
   "cell_type": "code",
   "execution_count": 34,
   "metadata": {},
   "outputs": [
    {
     "name": "stdout",
     "output_type": "stream",
     "text": [
      "HAPPYF333TZ(#6356): 865\n",
      "FRANKEZA(#9606): 818\n",
      "MATTMILLER(#6255): 759\n",
      "JQTRAN(#7478): 718\n",
      "KANATA(#7986): 673\n",
      "ZELLLOOO(#7581): 658\n",
      "LAILAS(#2506): 638\n",
      "RUN(#4678): 630\n",
      "JERRYWHYMARI(#2070): 618\n",
      "SUNMU(#7646): 615\n",
      "TOMATONIUM(#3508): 577\n",
      "GORANI(#8131): 574\n",
      "SD1212(#2468): 568\n",
      "KANATA(#7647): 567\n",
      "HKPIU0127(#5879): 559\n",
      "FEFEMZ(#1489): 552\n",
      "CHOISUN(#9598): 542\n",
      "SLIONS21(#5695): 540\n",
      "NATURENIM(#1105): 539\n",
      "MJGH0613(#9994): 529\n",
      "YEIDEN(#6819): 527\n",
      "LHA(#5213): 503\n",
      "URUSA(#9487): 501\n",
      "HATSUWU(#4424): 495\n",
      "18(#3455): 492\n",
      "SEOLJIHO(#9183): 488\n",
      "FR0D0XXNVT(#9373): 484\n",
      "DIGI(#4620): 482\n",
      "SUNNY(#5412): 480\n",
      "DLINZ(#6681): 475\n",
      "BORDER(#5102): 470\n",
      "SANGKM(#2636): 465\n",
      "REY(#7343): 463\n",
      "ROBLOX(#3216): 461\n",
      "ZZANGK(#6918): 460\n",
      "IMHEALTHMAN(#2788): 457\n",
      "KANATA(#7637): 456\n",
      "KIMSH(#8423): 446\n",
      "BUDDY(#2635): 446\n",
      "RSS(#3767): 440\n",
      "NULL(#1029): 428\n",
      "SANCTUS(#6017): 398\n",
      "MASK(#3110): 397\n",
      "AOD(#2085): 395\n",
      "IRUSHIA(#6575): 381\n",
      "XIUMIN99(#3852): 380\n",
      "LGZZUSSS(#6884): 379\n",
      "GAVIORIGINAL(#1286): 368\n",
      "LEGEND12(#1612): 366\n",
      "JOA(#8436): 362\n",
      "LUISITOL(#1605): 361\n",
      "ZHAOYUN(#1989): 355\n"
     ]
    }
   ],
   "source": [
    "count = 0\n",
    "for user in users:\n",
    "    print(user)\n",
    "    if count > 50:\n",
    "        break\n",
    "    count += 1"
   ]
  },
  {
   "cell_type": "code",
   "execution_count": 44,
   "metadata": {},
   "outputs": [
    {
     "data": {
      "image/png": "[encoded data removed]",
      "text/plain": [
       "<Figure size 640x480 with 1 Axes>"
      ]
     },
     "metadata": {},
     "output_type": "display_data"
    }
   ],
   "source": [
    "import matplotlib.pyplot as plt\n",
    "\n",
    "def plot_user(users):\n",
    "    full = []\n",
    "    for user in users:\n",
    "        full.append(user.count_total())\n",
    "    plt.plot(full)\n",
    "plot_user(users[300:800])"
   ]
  },
  {
   "cell_type": "code",
   "execution_count": 27,
   "metadata": {},
   "outputs": [
    {
     "data": {
      "text/plain": [
       "{20: 3, 21: 4, 22: 2, 23: 1, 24: 1, 25: 2, 26: 0, 27: 0, 28: 0}"
      ]
     },
     "execution_count": 27,
     "metadata": {},
     "output_type": "execute_result"
    }
   ],
   "source": [
    "test = UserRank(\"ABEL\", \"#9109\", total_rank_raw[\"ABEL #9109\"])\n",
    "\n",
    "test.full_counts\n"
   ]
  },
  {
   "cell_type": "code",
   "execution_count": 11,
   "metadata": {},
   "outputs": [
    {
     "name": "stdout",
     "output_type": "stream",
     "text": [
      "8 6 - FULL SONG - Double23: rank 79, score: 988,974\n",
      "\n"
     ]
    }
   ],
   "source": [
    "def score_string(score):\n",
    "    str_score = str(score)[-3:]\n",
    "    return str(score//1000) + \",\" + str_score\n",
    "\n",
    "#랭킹 데이터의 STR화\n",
    "def rankstr(rankdata):\n",
    "    score_str = score_string(rankdata[\"score\"])\n",
    "    print(f\"{rankdata['song']} {rankdata['mode']}{str(rankdata['level'])}: rank {str(rankdata['rank'])}, score: {score_str}\")\n",
    "\n",
    "palami = find_user_all(rank_all, \"HIMESAKANOA\")\n",
    "\n",
    "\n",
    "for i in palami:\n",
    "    rankstr(i)\n",
    "print()\n",
    "\n"
   ]
  },
  {
   "cell_type": "code",
   "execution_count": 1,
   "metadata": {},
   "outputs": [
    {
     "ename": "NameError",
     "evalue": "name 'rank_26' is not defined",
     "output_type": "error",
     "traceback": [
      "\u001b[1;31m---------------------------------------------------------------------------\u001b[0m",
      "\u001b[1;31mNameError\u001b[0m                                 Traceback (most recent call last)",
      "Cell \u001b[1;32mIn[1], line 14\u001b[0m\n\u001b[0;32m     10\u001b[0m                 user_ranks[username] \u001b[38;5;241m+\u001b[39m\u001b[38;5;241m=\u001b[39m \u001b[38;5;241m1\u001b[39m\n\u001b[0;32m     11\u001b[0m     \u001b[38;5;28;01mreturn\u001b[39;00m user_ranks\n\u001b[1;32m---> 14\u001b[0m userRanks \u001b[38;5;241m=\u001b[39m get_userRankDict_unit(rank_26)\n\u001b[0;32m     17\u001b[0m \u001b[38;5;66;03m#단순히 누가 몇개를 깼는지만을 전달\u001b[39;00m\n\u001b[0;32m     18\u001b[0m \u001b[38;5;28;01mdef\u001b[39;00m \u001b[38;5;21mget_userRankDict\u001b[39m(ranks):\n",
      "\u001b[1;31mNameError\u001b[0m: name 'rank_26' is not defined"
     ]
    }
   ],
   "source": [
    "\n",
    "def get_userRankDict_unit(rank):\n",
    "    user_ranks = {}\n",
    "    for item in rank:\n",
    "        #print(rank[item])\n",
    "        for instance in rank[item]:\n",
    "            username = instance[\"username\"]\n",
    "            if username not in user_ranks:\n",
    "                user_ranks[username] = 1\n",
    "            else:\n",
    "                user_ranks[username] += 1\n",
    "    return user_ranks\n",
    "\n",
    "\n",
    "userRanks = get_userRankDict_unit(rank_26)\n",
    "\n",
    "\n",
    "#단순히 누가 몇개를 깼는지만을 전달\n",
    "def get_userRankDict(ranks):\n",
    "    ranks_sum = []\n",
    "    for rank in ranks:\n",
    "        rank_unit = get_userRankDict_unit(rank)\n",
    "        ranks_sum.append(rank_unit)\n",
    "    user_ranks = {}\n",
    "\n",
    "    for rank in ranks_sum:\n",
    "        for user in rank:\n",
    "            if user not in user_ranks:\n",
    "                user_ranks[user] = rank[user]\n",
    "            else:\n",
    "                user_ranks[user] += rank[user]\n",
    "\n",
    "\n",
    "print(userRanks['FEFEMZ'])\n",
    "\n",
    "print(get_user_set_unit(rank_26))\n",
    "#print(get_user_set(rank_all))\n",
    "print(len(get_user_set(rank_all)))\n",
    "\n",
    "duplicates = get_duplicate_usernames_dict(get_user_set(rank_all))\n",
    "\n",
    "duplicates"
   ]
  },
  {
   "cell_type": "code",
   "execution_count": 7,
   "metadata": {},
   "outputs": [
    {
     "name": "stdout",
     "output_type": "stream",
     "text": [
      "868\n",
      "0\n",
      "219\n",
      "[]\n"
     ]
    }
   ],
   "source": [
    "\n",
    "\n"
   ]
  },
  {
   "cell_type": "code",
   "execution_count": 36,
   "metadata": {},
   "outputs": [
    {
     "data": {
      "text/plain": [
       "'Little Munchkin'"
      ]
     },
     "execution_count": 36,
     "metadata": {},
     "output_type": "execute_result"
    }
   ],
   "source": []
  },
  {
   "cell_type": "code",
   "execution_count": 9,
   "metadata": {},
   "outputs": [
    {
     "data": {
      "text/plain": [
       "('Full Song', 'XX')"
      ]
     },
     "execution_count": 9,
     "metadata": {},
     "output_type": "execute_result"
    }
   ],
   "source": [
    "song_csv[\"song\"][1]\n",
    "\n",
    "def get_song_info(song_csv, song_name):\n",
    "    for i in range(len(song_csv[\"song\"])):\n",
    "        if song_csv[\"song\"][i].lower() == song_name.lower():\n",
    "            song_type = song_csv[\"song_type\"][i]\n",
    "            song_version = song_csv[\"version\"][i]\n",
    "            return song_type, song_version\n",
    "    return \"N/A\", \"N/A\"\n",
    "\n",
    "get_song_info(song_csv, \"8 6 - full song -\")\n",
    "\n",
    "\n"
   ]
  },
  {
   "cell_type": "code",
   "execution_count": null,
   "metadata": {},
   "outputs": [],
   "source": [
    "def find_song_is_substr(song_csv, song_name):\n",
    "    for i in range(len(song_csv[\"song\"])):\n",
    "        songname = song_csv[\"song\"][i]\n",
    "        for j in range(len(song_csv[\"song\"])):\n"
   ]
  },
  {
   "cell_type": "code",
   "execution_count": 57,
   "metadata": {},
   "outputs": [],
   "source": [
    "samples = []\n",
    "\n",
    "#특정 레벨의 인100 데이터들을 모아 sort후 정렬\n",
    "def score_lister(rank, mode = None, subtitle= None, Threshold_top = None, Threshold_bottom = None):\n",
    "    if subtitle != None:\n",
    "        print(subtitle)\n",
    "    print()\n",
    "    samples = []\n",
    "    for item in rank:\n",
    "        length = len(rank[item])\n",
    "        sample =  rank[item][length-1]\n",
    "        if mode != None:\n",
    "            if sample[\"mode\"] == mode:\n",
    "                samples.append({\"song\": sample['song'], \"score\": sample['score']})\n",
    "        else:\n",
    "            samples.append({\"song\": sample['song'], \"score\": sample['score']})\n",
    "\n",
    "    samples.sort(key=lambda x: x['score'], reverse=True)\n",
    "    if Threshold_top != None and Threshold_bottom != None and len(samples) > Threshold_top + Threshold_bottom:\n",
    "        samples_top = samples[:Threshold_top] \n",
    "        samples_bottom = samples[-Threshold_bottom:]\n",
    "        print(\"TOP\" + str(Threshold_top) + \" in100 cutlines\")\n",
    "        print()\n",
    "        for i in samples_top:\n",
    "            print(i['song'], score_string(i['score']))\n",
    "        print()\n",
    "        print(\"BOTTOM\" + str(Threshold_bottom) + \" in100 cutlines\")\n",
    "        print()\n",
    "        for j in samples_bottom:\n",
    "            print(j['song'], score_string(j['score']))\n",
    "    else:\n",
    "        print(\"in100 cutlines (ALL)\")\n",
    "        for i in samples:\n",
    "            print(i['song'], score_string(i['score']))\n",
    "    print()\n"
   ]
  },
  {
   "cell_type": "code",
   "execution_count": null,
   "metadata": {},
   "outputs": [],
   "source": [
    "'''\n",
    "score_lister(rank_22, \"Double\", \"22 (Double)\", 10, 50)\n",
    "score_lister(rank_21, \"Double\", \"21 (Double)\", 10, 50)\n",
    "score_lister(rank_20, \"Double\", \"20 (Double)\", 10, 50)\n",
    "\n",
    "score_lister(rank_22, \"Single\", \"22 (Single)\", 10, 50)\n",
    "score_lister(rank_21, \"Single\", \"21 (Single)\", 10, 50)\n",
    "score_lister(rank_20, \"Single\", \"20 (Single)\", 10, 50)\n",
    "\n",
    "print(\"쓸데없는 것들\")\n",
    "score_lister(rank_27over, \"Double\", \"27over\")\n",
    "score_lister(rank_26, subtitle = \"26 (Double, Single)\")\n",
    "\n",
    "\n",
    "\n",
    "score_lister(rank_25, \"Double\", \"25 (Double)\")\n",
    "score_lister(rank_24, \"Double\", \"24 (Double)\")\n",
    "score_lister(rank_23, \"Double\", \"23 (Double)\")\n",
    "\n",
    "score_lister(rank_25, \"Single\", \"25 (Single)\")\n",
    "score_lister(rank_24, \"Single\", \"24 (Single)\")\n",
    "score_lister(rank_23, \"Single\", \"23 (Single)\")\n",
    "'''"
   ]
  },
  {
   "cell_type": "code",
   "execution_count": 21,
   "metadata": {},
   "outputs": [
    {
     "name": "stdout",
     "output_type": "stream",
     "text": [
      "{'EIQUESON', 'PEKORA', 'TENSHI', 'SUNA827', 'NEWAMI', 'XXLALOXX', 'GARY', 'SATESATESATE', 'BASAURIO', 'YUNAHIRO', 'SHANKS', 'GUERO40', 'ELEMPALADOR', 'SPHYNXINATOR', 'BADIN', 'ZZZ', 'H3LLBOY', 'SUPREME', 'ZAKA', 'MUNLAI', 'KINDWAVE', 'EXPLOREZ', 'NEVSISTER', 'LGZZUSSS', 'ROJOXD', 'UB3RR4VE', 'DDORAI', 'PICO', 'VERMEIL', 'CHOCOMYNT', 'DUSIZERG', 'SLOW', 'AYOTLA', 'GATOP', 'CLUCLE', 'DENNHEC', 'EXCEED', 'CHOCHO', 'SHINE', 'CIOC', 'SALADY', 'JYNKO', 'SEWOL', 'JAMDOLL', 'AKZEL', 'SEXYJINNY', 'THELOSTCAVE', 'JOMSU', '2014', 'AIRMONKY', 'KCM', 'ITALIAN0', 'FLAME', 'DONGTUNA', 'KORILAK', 'LEVI', 'YOUYORIN', 'R2RO', 'CREDIT', 'YOOSSUWU', 'CUMULONIMBUS', 'YINYANG', 'NETAMINI', 'DLINZ', 'XTREMEGAMES', 'AWNER', 'ROSY', 'JEFFKOOPA44', 'NAMI', 'BLUEFL4ME', 'GRRNOT', 'LEGO', 'BUKAA', 'CODEARK2', 'SUCIODAN', 'LEECHAEYOUNG', 'TERM115', 'JIWOO', 'MIISAKIICHAN', 'SKYE', 'CHANSU', 'HANABI', 'CPATOS38', 'ANDYHC10', 'BLACKBEAN', 'NASEONGYEDAN', 'ELCHARLY', 'JFEMBOY', 'USHINOREIRA', 'ZENITTSUXD', 'KNUX', 'MUDKIP', 'IVIXRLBORO', 'PIUTESTER', 'LUPJ', 'SAKURAMANA', 'LSQSILOVEYOU', 'NEWJEANS', 'YERSON', 'ANDORA', 'SPRINGDUCBAR', 'JARISAGAMES', 'LANPIUSM', 'BIGCHOI', 'TOMATONIUM', 'ZANTING', 'BLUHEART', 'PPAP', 'NASH', 'FOFOMZ', 'RETRIEVER', 'NIRDIER', 'KANOFA', 'IIZRAA93', 'AVIORE', 'HAHA0F35', 'MOTE', 'MATE', 'ANGEL', 'BONOBONO', 'YUDAIPNX', 'THEJMAXX', 'ALANKALI366', 'YUKKI', 'FE1KNEK0', 'SAUL', 'SAKAKI', 'SHALON', 'GOLDKINE', 'GAMZA', 'DISC6', 'SULLYVAN', 'KOFER', 'DARKZIL', 'YINYBEST', 'ELITE99', 'SURYY', 'USER', 'MAY', 'EVENTGENBAR', 'MOLLY', 'VALERIE', 'YSRUNNERPIU1', 'XJULZX', 'KOOPAH', 'BEEMO', 'LEON5', 'EMAPUMPER', 'TIILMASTER', 'BBJH', 'XPECHANX', 'KORAGAMES', 'IMDRAKE', 'YONIFAA', 'NOMOREDICK', 'DMZZZZJOE', 'XELOLA', 'SNOOPY', 'DADA0613', 'VALEX', 'ASUKAH', 'YOMO', 'MAE', 'CHOISUN', 'CHUCHINZ', 'CONRAD', 'SAB3R', 'KENNY99', 'KAME', 'RENEGADO', 'SHIROCHU', 'LORDCHAZ', 'UNIQUE', 'APOLO1', 'ZZANGK', 'WIZ', 'CLICKMON', 'SUWON', 'BOCCHI', 'FREMIIT', 'GAVIOTA1', 'ROMINOLA91', 'KAZEMURA', 'GOON', 'OK', 'QWERTY', 'ZAJGAMER', 'GONARG98', 'IVETH', 'HERRAB', 'KCT', 'ONE', 'HZ1294', 'CHEQUES05', 'HATSU', 'COCOELFAN', 'PUAZ', 'RYUICHI', 'DONGB', 'HOSH', 'SNOR', 'XYAMAZAKI3X', 'KITSCH', 'ACTIONRUNNIN', 'DIGS', 'WINDFORCE', 'ELROSA', 'GUNXROCKER', 'SINFULSPOILS', 'FOFO', 'MINECRAFT', 'ICIHISI', 'PARANSKY', 'SHAWN1111', 'CAFFWIN', 'POKILITO', 'ELSABEST', 'PAPANEME', 'STIMPSONH', 'IBRAHIM', 'FER11', 'RAFIASDM', 'HYPEBOY', 'RACCOON7', 'ALFR33D', 'STARMAX', 'NYX3PIU', 'CHRONOMIA', 'MDMOITUBE', 'DABURU', 'ZLFQRAL', 'XXXXX', 'NULL', 'LEECONOMY', 'PICCORO', 'HEERA', 'TAKA201', 'LUMINOUS', 'JAVA', 'BASIC', 'CAONIMAB', 'BUDWEISER', 'HARDCORE', 'RUDBECKIA', 'RARU', 'ALEX', 'MINIBEAR', 'NOTGAME', 'MAMAHOHO', 'RORONOA', 'DONJAR', 'DIZZNUTZ', 'KMOST', 'GREGRE', 'WIND4RCE', 'PINWY', 'RITXMANRX', 'CHAKYZ', 'YUMI81', 'LILIANAMEI', 'FATT', 'BREAK', 'HANRORO', 'LAUALDAMA', 'GEMHOUSE', 'BLACKPINK', 'IMHEALTHMAN', 'LJJNB', 'MITHOS', 'ZOELOY', 'ASHUY', 'YUNHA', 'VYMPEL', 'ZENLYN25', 'SSRMEI', 'RUMS', 'JAPONESITA', 'LOKQUIMA', 'SUNMU', 'KURIII', 'VXHA', 'KENJI', 'GAMMAYOSHY', 'APTX4869', 'ALEXBB', 'OUK', 'ANKAPOOL', 'WISEY', 'SLAMITO', 'STARTER', 'J7WSHINDEN', 'SILKY', 'GYEONGJU', 'PANTERSJM', 'STEPHZOE', 'FURY', 'GUILLERSVJ10', 'NSKD12', 'ASABA', 'KELEVEN', 'LOGAN', 'KIMKARU', 'GRIZZLY', 'YUUKI', 'BIRD', 'CAMITAS', 'DUCKO3O', 'POST', 'MADRID', 'H2U', 'ROSSO', 'SKYSHIROU', 'HYPNOSIS', 'CAKI', 'KRLITA', 'LHA', 'SAKURAGI', 'EDGARG424', 'BLANK', 'MUFASTA', 'ROSCOE', 'RNZ0', 'NASAN', 'REFICUL', 'FATIIS', 'MRBRANCH', 'INDAHPUS', 'ROCKZZ', 'CHARMIN', 'HYPERHAN', 'KOOH', 'TOSOAR', 'GERZ', 'ARDPRDN', 'HSUNHYUNG', 'HANSOL', '3', 'CSUAREZ', 'DANIEL85', 'SRBD', 'LIXO', 'DRAFT', 'XXYAZZXX', 'DHLEE', 'AZKAPOSS', 'SOPHIE', 'YUKARI', 'TOBARIMARU', 'VITAMINS', 'COYII', 'COYI', 'MISHA', 'CHARLY32', 'ZZINGZZING9', 'ELPOLLON', 'MEMUERTO15', 'MAYA01', 'BERYLMASTER', 'SWAN', 'SUGE', 'BLOPA', 'JUNY5531', 'ALMIX', 'REDOILY68', 'HAIRDA100', 'SENEE', 'A', 'ROADTO25', 'PUPX', 'ANOTHER48', 'RINSTEA', 'GUPYEONG', 'CHANCR', 'SCARLETT', 'EPILO', 'FEFEFETZ', 'AARON', 'PUMPLIMIT', 'SNR1983', 'TIRRUUUU', 'STARFORCE', 'YOSHYZ', 'JSM1004', 'NAPO', 'BLACKM4N', 'MATTYFROG', 'VKDLSXM', 'GENGOR', 'RODRIROKR', 'MARO', 'HAYEONLUV', 'NAKASAMA', 'VALKYEN', 'GALVAN', 'SOULSTEP', 'HOONICO', 'FIRDA', 'KIKIN', 'ASURA', 'BADLUCKBEN', 'MARY01', 'DANNITA', 'HANCHIWOONG', 'IILIIILIIIL', 'MCDONALD', 'ERNEST', 'MISTAHDREAD', 'MARYJANE', 'TOKKIZZING', 'GAELITO', 'DANIELSLP', 'EVE', 'SIEGFRIED', 'PARANOIABOI', 'LUIGGI', '2WEN1', 'MILISAY', 'ZZIO', 'ZER0', 'DIMERZ', 'PINO69', 'DPSQB', 'CHRY', 'HIMEKITO', 'SANTI14', 'ZACKITO', 'ARCEUS', 'EOLIS', 'KHOTAUWU', 'BAGROLY', 'WAPOWER', 'SLIONS21', 'RBM', 'BAGOPTP', 'NICHYRAA', '01091287569L', 'GERA99', 'BETOMANRIQEZ', 'RALARA', 'QUEENSEI', 'AMALIA', 'GARF', 'CURRYX1', 'AD1OS', 'OVAICHE', 'PALETA', 'YUNIS', 'MEMMEX', 'KDHYS', 'XVANEX', 'EDGARPIU', 'BOOTS', 'MOJOKING', 'JUSTGAMERS', 'ALBERT69', 'DRBOX', 'AMAGANAG', 'TAKEO', 'AOD', 'FURRY', 'ETUDEHOUSE', 'STRAWBERRY', 'PARZIVAL', 'YEIDEN', 'PSM', 'DANEL', 'BEBBI', '1GHARY8', 'XUXU', 'IIGXBOII', 'SOMA', 'BOSCO', 'SASILSANG', 'STEPZWA', 'SIMON503', 'REIDDILUC', 'DRUMM33R', 'REDFORD', 'TUDIOS363', 'BANGNA', 'PANCHOCL', 'MEROL', 'DAEJUN', 'KRUSTY', 'ALEXITA', 'GANYU', 'DDAYO', 'AMAIIBERRY', 'YMHS', 'HOON2', 'ROCKSKAREGGE', 'JERGAZ', 'PAMBY', 'BUBU', 'HAPPY12', 'TACHUNKYYAA', 'NENE', 'WOKER', 'HALLASAN', 'KEE', 'HOLIDAY', 'LOPE2', 'CHARLESF', 'YINGCAR', 'ANDNISSPIG', 'KAIJUN', 'G10', 'ALDAIPIU', 'WASANS', 'KYO', 'PP', 'NOEUL', 'ANCHOVY', 'NOTL', 'SAD', 'LILO', 'ZIRIUX', 'ILOVEOOV', 'DITTO', 'CHIRSTER', 'BELICS', 'TULIMON', 'DANTE', 'CAPYBARA', 'PRIVETPAKET', 'TIAMAT', 'EWOOKIE', 'JHOMZPHJABOL', 'DOBLEELE', 'GABIT0', 'DEWEY', 'CULERIN', 'MONKEY22', 'MINDBENDER', 'SINRIM2', 'UKYOUNG', 'SATORUGOJO', 'ALEWAX', 'GACHA', 'TUSA', 'SSOYAHONGSAM', 'AMIRELAD', 'MATH4KDR', 'YAMIZEROX', 'PIUPHFIDDLE', 'HONEY', 'MIDTOWN', 'DDRULOX', 'PLUD2', 'HATSUWU', 'ZONAPHOENIX', 'CHUNIBYO', 'MAKU', 'DONGCHI', 'VANISH', 'REDSTAR', 'C4NN0N', 'KRONIN', '404EDEN', 'TOPOTAMADRE', 'VESTRAD', 'SDEJAVU', 'DDIE', 'KURT', 'ALGUIENMAS', 'DARKC', 'STORMWALKER', 'SHAWEE', 'AXID', 'BARJO69', 'CHAY', 'ICYCOLD', 'SANTII', 'CAFEDOROON', 'PUMZZI', 'CHEESECAKE', 'PUMP1', '01FER', 'NAT8', 'DAGNYNYA', 'RIFKA', 'RESPECT', 'YENNIGUAU', 'MICKY', 'KRISTOS', 'MIDORI', 'BHYO', 'ZELL', 'DARKCHAO', 'SRGATTO', 'NIGGVPIU', 'NARB', 'LUUCHYY', 'JBEAN', 'IACTCOOL', 'CRAZ821', 'LESEMO', 'SAEBYUL', 'CHOBOKIM', 'KUROTSUNO', 'JJACKSON', 'ELPAISA', 'VERMICELLO', 'KODONGWOO', 'SANTYPHANTOM', 'ELIUDPUNKX', 'CVVVVE', 'MJGH0613', 'MATTMILLER', 'LUISITOL', 'HARUJUN', 'TICHU', 'ANHELIWILD', 'PIUPHONIWANG', 'RENZU', 'NERO', 'RAA0EVIL', 'JHWANTA', '4199', 'CHATEAW', 'JEHEZUKIEL', 'PLUTZ', 'HAMAME', 'ABS1776', 'XIUMIN99', 'INNOSENSEI', 'KACHIE', 'TUMBLING', 'KAIZURU', 'LYNN666', 'REDVIPER', 'SUPRDEVA723', 'ESCAMILLA', 'MADDUMMY', 'YOMI', 'TANDAN', 'MAEHWASU', 'DARKBEAM', 'KLKSENPAI', 'SKR', 'TKXHLGKTPDY', 'COOKIEZI', 'DIANAG', 'BUDDY', 'NAEMIS', 'MARIGUAS', 'MITSURU', 'KANGSKY', 'GATO24', 'VINCENTBOCK', 'DANNNIIIO', 'YUDSKY', 'GAGMAN', 'KA1T0', 'GUNZZZZZ', 'ARIO', 'H3X', 'BOURBON', 'DOPEALMIGHTY', 'BEROBA', 'JEVONN', 'KETERNAL', 'DIESEL', 'GUNTHER', 'WISDOM', 'TORNADO', 'MONTOYA', 'FANTASIA', 'SSETLAM', 'INSO', 'NDDR', 'KERNIS', 'SOLJI', 'BORDER', 'THOMY', 'KLONOA', 'GUSTAXXO100', 'AURIO', 'WANDERERID', 'GRINGRI', 'KOOMAN', 'SADDUMMY', 'SPHAM', 'TT', 'ABIN', 'PEGASSO', 'BUBA', 'MAXVOID', 'JAVIERS', 'JARISAGAMES2', 'AZILANNA', 'FELIXOR', 'MILE', 'SANTIII', 'UYAB', 'BAYMAX', 'I9', 'MALTESSFOX', 'BLUU', 'FELI7', 'STACKER', 'AISHMOJO', 'MISA', 'CHROMOIDZ', 'PAPUCHO', 'JAEKIM19', 'ZIZONE', 'PERMENKOJEK', 'AI', 'LOY', 'PELUSA', 'WPGNS7544', 'SIXIAOHUA', 'QPWOEIVM', 'MILEBRR', 'WARENCHICO', 'NICONI', 'BIBI', 'TARIUM', 'OTL', 'BTOOO', 'AFEFOTZ', 'POLAR', 'LITTLEHEARTS', 'CANONDNM', 'FRIDAY', 'CLONE', 'MYWAY', 'DARREN2002', 'MOSHITUP', 'MIZURAIN', 'KRISSEIGRIM', 'LAROALPHONSE', 'LOVELY', 'DIARY', 'JONT2801', 'MEINICKE', 'HANABIS', 'LAXX', 'TROPIC', 'CHOCKSLP', 'ALBERTTH', 'DONCOBY', 'GIPPY', 'TIJERAS', 'REXX69', 'CEPHEID', 'SEXHURRICANE', 'LEOPIUG', '0LIVE', 'TBCPIU', 'SHIZA', 'PDH3374', 'HOUSE', 'HIKARI27', 'KH179', 'YORUGAO', 'ZEXIOUS', 'TATILIA', 'MILASCA', 'RUBYDEER23', 'IVORYKNIGHT', '2NAM9', 'ADALID', 'WONGTONG', 'PATATAS11', 'DRIPGOD', 'GINDRI', 'HONGMID', 'AWE', 'DJ505', 'VIOLET', 'PIKACHU', 'MIYU', 'CHIICHIINA', 'POCHITA', 'MOCHA', 'KYONJ', 'SOMNIUM', 'SOVUSHKA', 'VASH', 'END', 'TEBES', 'MIDOHAZU', 'LR', 'UMI', 'ZZINDDAMAN', 'DEKUROAW', 'PIUPHRAIVEN', 'CHUCHURU', 'DANGERTFC', 'MRCLICKMON', 'PIUAZ', 'PMSE', 'REQUINOX', 'ALXZ95', 'ABENHAIM', 'UXONY', 'SKYWAVE', 'PFK', 'MARIOTECNO', 'NEZUKO0PIU', 'XXMJRZXX', '48POINT', 'MINKINET', 'PENSPINNER', 'RUJ4K', 'DOCTORORAN', 'PHANTOMKLTZ', 'AREL', 'MINERVA', 'GAME', 'YYLOVEYY', 'HUCHARAL', 'JOHNNY', 'TAKAMI', 'GAMEBITSS', 'INGANSE', 'ADRII', 'SATO', 'MATEORAIN', 'STIVENSIN', 'HARRYXD', 'MOLAMOLA', 'APRIL', 'EDD202', 'FRANK89', 'TORRE', 'PALABAPAKKAU', 'M4RQU3Z14', 'VALKYRIE', 'LEGEND12', 'BBORI', 'NYAKOZAME', 'COOLKAMI', 'BLOSSOM', 'PABEL', 'WITE', 'ASRIELLY', 'TERRYXWILD', 'CHUVISKHM1', 'DANITAUWU', 'FIFIXD', 'OHIODDR', 'KCTC', 'YAMETE', 'DORORONG', 'LUISOBUKELE', 'BETOPOTER', 'ACTER', 'MARIALI', 'BANDEIDI', 'DEATH666', 'MICKYSKUN', 'NEPXUNI', 'COCOA', 'KAWAIINOMEL', 'MAIY', 'UWU', 'LANOJAAA', 'CHOSIM', 'NEWFACEDY', 'VIC999', 'REICON', 'EPXILONN', 'OSING', 'DOOHORALBUNI', 'TAROXY', 'NEWPLAYA', 'PRECARIO', 'SNDH', 'NIMGO', 'GATITOUWU', 'DEAR', 'IXCIBOX', 'FRUIT1', 'RICEBALL', 'STEELMISS', 'PBALROG', 'BANJUHARA', 'GYEOKSU', 'NANACHI', 'GRENAZ', 'DADGBE', 'XIAOHAI', 'JR', 'DOTORYA', 'CHOBO', 'DIEGO', 'PEARLY', 'MELONZUI', 'SOL2', 'SEUNGSU010', 'YUSA', 'XTREM3X', 'RITOKUN', 'JINHO', 'UDOOCTIM', 'ICETEA', 'CHRVOX', 'JASMINE', 'FRANATINY', 'KXID', 'TURTLEMI', 'NATSUKI', 'SAKURA', 'PAPICHRIS', 'PHOENIX', 'KIARITASTAR', 'LACKHOLE', 'SAMYI', 'AK4NE', 'MANUCEJAUS', 'ELIXIR', 'D4C', 'LEO', 'LIZKAHUITL', 'GINA2909', 'NEIMLIS', 'KAFUU', 'O4ANGE', 'OVAIICHE', 'K4NON', 'EXC', 'NATHANIEL', 'FORTNITE', 'FELIX', 'MISERABLE', 'ADITA', 'ANA53', 'SION', 'KKWALKER', 'KOR', 'NEW', 'REALRUDA', 'EROSTARZHAIN', 'HORSE', 'DMATH', 'EYESOFSOL', 'FEI', 'MONOMAXX', 'CHUOBI', 'YAGADA24', 'NEXTPOKE', 'DEVILZ', 'MASTERHAND', '12345678', 'HU', 'KINGSTON92', 'HO9MA', 'GENIUS', 'IZMA', 'ALARGUI', 'KONG', 'IVANRH93', 'DR88', 'PICASSO', 'ESTRUPICIA', 'KAKOTOPIA', 'UCRIT', 'EYEVER', 'SUNOKIM', 'LOST', 'PASTRY', 'DOM', 'PATITAS', 'LQHP', 'ARTURO', 'SSSPACE', 'LEPOLLO', 'ANGCRISP', 'PRANATA', 'MYRA', 'FISH', 'CERENITY', '1', 'BLUEFIRE', 'IIIIIIIIIIII', 'MAQQ', 'DISTRO', 'CHAMISUL', 'RE3IRTH', 'SYLLALALA', 'CHIPSUWU', 'OCTAGON80S', 'LETSGGO', 'XROBOTX', 'NEWB', 'OMEGAPOINT', 'NIR', 'WEAVER', 'VAGRANT', 'LOPES', 'DEVILPANDA', 'KUNIYOSHI', 'ISABELL', 'MCNUGGET', 'VAKERIN', 'INTAMIN', 'DLGUDWN12', 'BLVCKPXLL', 'FAILER', 'USAA', '5HO5TASIK2', 'SHYBOY', 'DIGINJ', 'ASICKDUCK', 'BRWNNAH', 'QDANTEQ', 'GRAFITO', 'MOMOA', 'BORRE666', 'UIROU', 'FFJHDJDF', 'DJKYORE', 'BRUJITA', 'SINCANZO', 'SUNLIGHT', 'PAPUPOSTE', 'PAPASAITO621', 'HANDPUMP', 'GYUL', 'TAGORM', 'GUILLIGAN', 'REDROSE', 'CASHEW', 'KOTLIN', 'THELOSTCAVE2', 'RN9903', 'MELTINGHEART', 'LUCKY', 'ACEPKY', 'OSCARSNOW', 'JHONLEX', 'LOTTECGV', 'BLANKMAN', 'SEOLJIHO', 'ASH', 'CAMARO2317', 'LUCIFERX', 'JOKERA', 'BAGUNI', 'BADDLES', 'JSEOP', 'TIOCBA', 'GBUS', 'LIAR', 'DA3RXM', 'S2SUN', 'PIPEH', 'NORMITACORE', 'GIOVANNI', 'DANNYPHANTOM', 'PALOS51P', 'JQTRAN', 'NATHA', 'COSHIOWO', 'GOOFY01', 'EVERLSTNGMSG', 'OMGILJET', 'SALMUN', 'DEANIE', 'PIUCL', 'CHASYU', 'MONO69', 'DAVIDSSX', 'BERTINSJL', 'PIUCRIS', 'BANGX2E', 'P4PAGONZ', 'ARIES2005', 'IBARRA', 'AZURE', 'MANA', 'MINOLEE', 'SHANQUSU', 'EVERNIGHT', 'PATR1CK', 'ELMER', 'KATAKURI', 'PERSONALWIND', 'SYTHI2', 'PINGUINO', 'SS5SS', 'KATYBEL', 'XNEROHUNTERX', 'DANNYLEE', 'KARUTALE', 'TWIST', 'TOPERPER', 'HAPPYF333TZ', 'D0NK1N', 'PGS696', 'MNAZ', 'MOONG', 'THENDOYY', 'WEROF2', 'EXCTEST', 'BOSSSALADTSR', 'JEFFITA', 'SUPER17', 'ZONAZEROGAME', 'ASPECT', 'SPRITE', '135623564756', 'COSMOS', 'IRIOS', 'DELTARUNE', 'GAMEOVER', 'BEOMJEONGS', 'JEEVAS', 'PUTOTLAX', 'SHUN', 'DENSHU', 'LIBRA', 'POROHUBPRIME', 'JONA', 'DESOLE', 'NUMBUH1', 'PAPAGO', 'OLDANDTIRED', 'MIVA', 'GROWTH', 'B1ZARRO', 'RICHARDSLP', 'MAGNUM', 'ANGGITA', 'PSYSEX', 'AKA', 'AMY227', 'ZIGGURATH8', 'XDRAKOX', 'BORREGO', 'SAEDAEGAL', 'MAIKY', 'DRSTAMINA', 'MAYAGAMES', 'WWWP111', 'LUISILLO', 'SECRET', 'JUANITO', 'PANSU', 'NOOOOOOOOOOO', 'HIELMY', 'DRAAKO', 'SOGEKING', 'JIJON', 'BIZ', 'STEBUNNY', 'CAPRI', 'ROAL', 'EMMANUELRZU', 'YUUUUCK', 'LUISFER', 'VIOLET7', 'KIMCOOL', 'AIRTURBINE', 'DEATHWING', 'DAWIC', 'DENJI', 'OSCARGOD', 'BANYOMI', 'GONEWITHWIND', 'BOBKELLY', 'XUMA', 'COMET', 'UGOLD', 'ODOLTEXTURE', 'CAMYAMI', 'DANYSGAMES', 'ANUBIS', 'CULOTRAINER', 'ICEWATER', 'HEAVENLYWARS', 'DOMII', 'DIABLOTLAX', 'AWOKEN', 'PEPE', '9', 'KIMAI', 'OSITO23', 'SECOUM', 'PERCLEAR', 'ESTRUPICIO', 'SLAM', 'XCOLMILLO', 'SHIROZAN', 'AZKAPOS', 'BRIDGETOMG', 'JOEYTS', 'KARYCARIBE', 'ALEXICHEESE', 'GRILLO', 'HAKKI', 'HYEBBANG', 'DH', 'TAYEUS', 'JORSHAR', 'JAEWON', 'KIMXX', 'PANDA', 'NINOJINJR', 'NATAS', 'TAMBURIN', 'LEIMO41300', 'BOONONI', 'LUNCHGAMING', 'MINPAO', 'IISCRYCHOII', 'GUZ', 'BEBETO', 'DALIN', 'SAGAM', 'ADALI', 'DANAC', 'NONDONNA', 'DRIFFY', 'KANEDA', 'GGWANG', 'YZJOY', 'LUISSELINE', 'SANTAMANDU', 'HUIHUI', 'STARLINK', 'VICKNABB', 'MERLINA', 'CHABALA', 'TOMANDJERRY', 'BSENSS6', 'ZERO0920', 'LUNADROP', 'DINI', 'PPGRISHO', 'RYEOHO', 'XMJRZX', 'HYUNWOOOOOI', 'FREECAT', 'FINIXIAN', 'XUOU69', 'ZZWW', 'SEKA08', 'ANNDYML', 'FRANKEZA', 'ERICKPIU', 'AZUL', 'KANATA', 'PAPIKAPUCINO', 'DAMDAN', 'LVIS', 'XAVYS19', 'ANGGAXEN', 'VJTPLANK', 'GR00TXD', 'GOM3', 'NIEL', 'COMBOSCORING', 'AAAAAAA', 'DICSTOR', 'SRPOKE', 'DULKI', 'KB', 'ZAPITA1990', 'JHSTYLES', 'PUMPTRIS', 'CUPCAKE', 'ARCHI', 'PHYSICS', 'SEMICOLON', 'MEMO0', 'DIET', 'THEGOAT', 'ASUKA', 'PIUPHWUDOWPH', 'MTROWERO', 'TRK7', 'KE1DY', 'YEYEKIEK', 'SABRINA', 'ARVE', 'PIERRABOX', 'OTDS', 'TOBY', 'ROBINXDJ', 'DIEGODMODE', 'NAYAKS', 'XYOLISX', 'LFISPIANO', 'NANA11', 'GASPER70', 'SD1212', 'HAKU', 'URUSA', 'CECVANS', 'TEAMCROW', 'DJGATO', 'RYAEON', 'DRUMMER', 'KHY', 'BRUO', 'PENXIV', 'DRMURLOC', 'GORILLA', 'EREN', 'ELCYVOZ', 'PLAYER34', 'NOVA', 'P0XI', 'MADVENSSS', 'JOSUESHANKSD', 'SMILE', 'RICHIIEPTP', '777GAIJIN777', '9NAM2', 'ASSAUNNIE', 'IPHONEK', 'COSTCO', 'XAN', 'MASK', 'ADHE', 'FRDINDFK', 'MARYGEO', 'PLAY', 'KIRAMINT', 'LEILEEMZ', 'DINO', 'PUSSINBOOTS', 'GLUTEOS', 'CODERAGE', 'TUNG0399', 'DARKDRIVER', 'WHO', 'KAZE', 'ZEYLANICA', 'FALESTOM', 'JULIO0', 'SANDW1CH', 'FINGY', 'PRUM', 'BBC', 'DONNA', 'RTA2', 'ANOWAY', 'PIUPHJEHPP', 'INSOMNIA', 'SALINASDSQ', 'AART', 'BURLA', 'YIJ11', 'MAKINAZ', 'B0RRE', 'DANNY19', 'XXN4ND0XX', 'WAWAN28', 'OSQUITARPIU', 'TRICXEN', 'VALE98', 'LIZELOTTE', 'BOM2U', 'OO0O0OOO0OO0', 'DEP', 'SARA', 'MUNG', 'KOKO197', 'CHANY', 'SURA', 'NATURENIM', 'NICKTOON', 'AITE', 'LIGHTW8', 'FLAZZARD', 'JBOY', 'FROM1999', 'POTAXIE', 'ZETAREY', 'QODOPO', 'HANGUANG', 'SHEN', 'XANAVI', 'SIRANDY', 'MINYKYA', 'O2JAM', 'IIDXDAVO', 'JIUNI', 'JINXEDT', 'TOCHINA', 'MITSUHA', 'DIGIKIDS', 'SANGKM', 'TEAMWAXY13', 'PANDAYANNAH0', 'MEOWK', 'SHINOBEE', 'RZL', 'CIEL', 'CHAYY', 'ALEJUUGG', 'GUMISH', 'KRLOZ', 'BOX', 'KOUSH', 'MILK', 'ASAD', 'VILLEGAS', 'ALEXIZWAY', 'DANOBASSPLAY', 'MACPATATA', 'ZELLLOOO', 'BACON', 'CHARECHII', 'GUIDU', 'CEREALKING', 'SYGHANNIPHAM', 'FZLIGHT', 'KILAVIGN3', 'IRUSHIA', 'JONGWHI', 'TENEBRES', 'IMYOURFATHER', 'KAISERMODE', 'KYAGAMY', 'HOMOKI', 'ALEXLAM', 'SENPAII', 'ENSA', 'NEETP', 'FENTON', 'ABILITY', 'GCOLOR', 'KNELO85', 'XSONRICKZX', 'JELLYSLOSH', 'XWIILLZ', 'AZUKITAR', 'KNIFEBLACKER', 'HARDBOX', 'FR0D0XXNVT', 'JOYBOY', 'FENZA', 'IMPLOVESELSA', 'SQUEEKEEK', 'SQUEEZ', 'SKIPZ', 'YUKISHK', 'JOSHPIU', 'FOBKUN95', 'AESTHETE', 'DIGI', 'RUN', 'FOGOZA69', 'GROOVY', 'COSMO', 'SIMBA', 'XREGANVX', 'V1TOKO', 'SALBILDDA', 'MINDONG', 'BOLILLO', 'GXNDXRX', 'SAKURAMIKO', 'RECURSION', 'VKIM', 'SPIEL', 'CRIAXD1FEIK', 'BKIOOK', 'TOKOYOMI', 'MINTFOAM', 'MIKU', 'WILSON', 'ELEMENTOR666', 'POLLY', 'METAWINK', 'TDASUKALEN', 'FISH520', 'YAOYAO', 'SIMAKNEE', 'TYRANTBEASTX', 'AKIRA', 'WALITOOO', 'STARGAT', 'XDAN', 'SILVERMIST', 'NIGHTKNIGHT', 'BAIYU', 'HARUKIKUN', 'GODFEMZ', 'MIAOUFGC', 'RILEY', 'BANQUET', 'MIMASAANE', 'NAUFAL96', 'BIBIMBAPTZ', 'LABODEGAMER', 'ATOMIX', 'SUNNY', 'CHOCOCREPE', 'CRISSHD1080P', 'RAY', 'XBUIRAIX', 'GALLE', 'GEE13', 'ZHORYPIU', 'EDEMIR1636', 'RUZO16', 'KUCHITO', 'ONGPAK', 'CHIPHANT', 'NICOROBI', 'OFFICIAL', 'RAVEN', 'LAILAS', 'GUAVAODDER', 'DAUN', 'DASEIN', 'VANILKA', 'SEEEEK', 'RSS', 'PIG', 'CULERINBZ', 'SCONURT', 'DARIUS', 'S34N', 'AMII', 'CARRESU', 'MRWEQ', 'IGIULX', 'JOANDER', 'DITOOO', 'SOULBAI', 'PHAERYOS', 'BERRYS', 'ICLATTE6099', 'SLAYER', 'XVIRUSX', 'SIZHU3', 'HUBASWFT', 'BREEZEPLANT', 'MOKUJIN', 'AEVILUX', 'KWUARTER', 'ACE0ZERO', 'THDGML012', 'JODUK', 'SAEOB', 'CLEANER', 'HIRUMI', 'YENA', 'J7ANG', 'SOTHOTH', 'KYC', 'DOLBYATMOS', 'BANN', 'ONIWANG', 'STELLAZZI', 'PRINCE', 'SECRETQ', 'ROTIFUL', 'MESO', 'ELESIS', 'GLOW', 'JORDANA', 'ROUGH', 'KINGBLIN', 'BKRYU', 'MANCHAS', 'ALECLAMP', 'EASPORTS', 'NEMOAPC', 'SUDDENNDEATH', 'WHITEALBUM', 'KYUUBI', 'PUMPITUP', 'KOKEAFT', 'MESSIAS', 'REY', 'HKPIU0127', 'YOSSSHI', 'NEKONYA', 'DXVILA', 'SASAKI', 'HUMBLY', 'MEDEI', 'ESMECHAN', 'OGISOSETSUNA', 'FLOLIN', 'AMPHITRYON', 'LOTTO', '00', 'EJACI', 'HOSH666', 'DDEAR', 'AMDER', 'LUNA', 'KYRITOOMY', 'MUGGYYY', 'TAILS', 'PHOEKNEEX', 'GERAL', 'ZOOCELES', 'GOCHURI', 'HEISENBERG', 'ALO', 'JUNHEE', 'BLANC', 'LEXIPIU', 'CARITOON', 'NEON', 'MADMOFO69', 'HARAPUMP', 'GERRYPIU', 'SITIKUSMINI', 'DAGAINZ', 'JH', 'SUPURAITO', 'ASTRO', 'XOXKITTYALE', 'STER', 'LUISPTP', 'HEIZ', 'LOEN', 'SIRDUCA', 'T3ALIZES', 'ECLIPSE', 'JAIME', 'GABAUM', 'EUPHORIANNOS', 'LEON4R2', 'MAKYURA', 'SAMS', 'JUSTCHAN', 'BLUEPHOENIX', 'DIANILLA', 'GENIE', 'ICHIKA', 'ZEST', 'KYO686', 'CLARITY', 'XREGANGX', 'SNIL', 'BYAKKO', 'NPDZTS', 'PALMERITANG', 'ROMPEORTOS', 'MOOMIN', '331X19', 'SASCUACH', 'SAVE77', 'MARLLYTOOH', 'TGDREARY', 'KOMMISAR', 'NEME', '78', 'JENSEN', 'PRIMOVIC', 'ROBLOX', '0CHA', 'K33KZ', 'DEUNCHI', 'JOSKY', 'JULZER', 'DDX', 'MASTERKIRE', 'VALTRAX', 'TOPO', 'GABIRU', 'IZMEW', 'FERYALMA', 'BASTAN18', 'STEWARDBOBO', 'ROBLUCCI', 'NUGGET', 'CONERSE666', 'BEEN', 'SERAPHIM', 'BR34K', 'MERRYTHY', 'WARI', 'OSO', 'OLDMAN20', 'HIMESAKANOA', 'FERNANDO', 'ILLUSION', 'BG', 'BL4STER', 'CRYN', 'GOGIMAND', 'FIREPOSSIBLE', 'PABLORB9', 'MADARA132414', 'JOZUE', 'LANCUNGS', 'YENNIMIAU', 'HYEOK', 'ONPU', 'SANCTUS', 'REMELT', 'JERRY', 'CHESS', 'NAYURI0728', 'ANG', 'IORI', 'MANNYZX', 'CHISUS05', 'KIRBYLOVE9', 'JEZZIEL', 'PATITONAZI', 'POPO', 'XTEPIZX', 'DANYS', '5TWELVEPIUPH', 'MKNS', 'DAWN', 'KYLUSHEL', 'FELIXXX10', 'SINCO', 'HOMIE', 'S1DEN', 'MAHOWSKII', 'TALKINPOTATO', 'ZETORUX', 'PKP', 'ATREYU', 'FR00T', 'HECTOR93ALMZ', 'ASDF', 'PIGROONEY', 'STINGERKOF', 'GORANI', 'MF29', 'JOA', 'TKSMEX', 'L1DER', 'VALENBOA', 'DDRLVAZN', 'CHOLO', 'DATURA', 'HANS', 'SOLS1TO', 'OTADA', 'BAYANATIX', 'RABBY', 'NEONROOM', 'CKUMC', 'REPLIK', 'ELSODA', 'ICEKUNGX', 'FHEER', '18', 'GOTHICO', 'HDS', 'KVHVIALI', 'LEEZ', 'DANCEFIT', 'RAYMOND', 'DIETER', 'ARDIVES19', 'JOSUEARCOS', 'DARWIKILL', 'SEBAPOTO', 'MOMOKEN', 'MINQ', 'AWOO', 'SSDB', 'CHOCOBO', 'ASMA', 'HSPUPPETS', 'LLWESKER', 'MYSQL', 'TIENY', 'MOCHUNG', 'VERBLO', 'REQUIEM', 'SC2BOM', 'STONCOLD', 'GAVIORIGINAL', 'BUBBLE', 'BARAMMAN', 'PAKTU2', 'JUANCHO', 'JD', 'SNOW', 'CHOCOBLIZZ', 'PREYOCP', 'LUISOVZLACL', 'SEBASSSX', 'BLVCK21', 'THEATASCADA', 'AILN', 'MUNGMUNG', 'UBIII', 'TTEOKBO', 'MELI', 'ZEREF', 'VVVVVVVVVVVV', 'CYBORG01', 'KLENERGB', 'ZANMANGLOOPY', 'EZIO', 'KLENA714', 'PALAMI', 'FIVEPINE', 'SINGLEUSER', 'BLAN', 'EDESONISM', 'KIMSH', 'POMKIIRFA18', 'KASKAIMP', 'BPM4ULIFE', 'YANCARLA', 'ROCKSKAREGGA', 'UWULAND', 'SNOWROSE', 'CHACHO45', 'FFF', 'JODIDO', 'MISHMX', 'ND12', 'EDU', '040701', 'MUSSO10000', 'JAS2', 'REDFRAME', 'GERZON', 'RAICARUS', 'HARFKIM', 'WILMAROX', 'WILLYRDC', 'EXTREME', 'HIJADEPERRA', 'DONARUDO', 'FERCHA', 'SHERRY', 'DAISHIRO', 'BENICIO', 'LEEJIEUN', 'BOTIJA', 'LANDA14', 'POLYROLY', 'KNEEVAN', 'YAPSSHIJA227', 'MIEL', 'NACHT', 'HUHUHUN', 'YONGARY', 'HOMUWU', 'TWILIGHT', 'JUNARE', 'LUSQID', 'ITISNOTGAME', 'K1LLTH3M', 'GAMESROOM', 'ISRAEL1992', 'MELON', 'CLOVER777', 'LEVERET', 'CRISCONTRERA', 'SNORLAX', 'ATLANT', 'MANABE', 'IQQI', 'ROM', 'STARGAT3', 'SMACKMYASS', 'KIRITO', 'MOONLIGHT', 'KAZMINY', 'MAR2003', 'KEQINGWANGY', 'HAVOK26', 'MUISIKI', 'DYNAMICALLEZ', 'IUSER', 'PHCL', 'PURRELY', 'BITCOIN', 'LOTTE', 'ZHAOYUN', 'WOONG', 'XION', 'ETERNATUS', 'DEJABA08', 'GAUSSIAN', 'LILITH', 'DINGCHUN', 'KANE', 'VIVISAN', 'YIMMY', 'RADIANCE', 'NELLEUM', 'FEFEMZ', 'MEOWMEMEE', 'MAILYTV', 'AVERY', 'XINOPUMP', 'PORSRP', 'HOON', 'KAWURO', 'ZEDRICK', 'ANDREWS', 'NATNAT', 'ERMAGERD', 'NANACH1', 'TESLA', 'EAGLES22', 'DIEGORE', 'HAO', 'NEO1SM', 'WANGMAOMAO', 'SEBASUWU', 'ABEL', 'ARTEMIOS', 'OKBA', 'PLAYERPATYYS', 'GRIMOIRE', 'EROS', 'PEED', 'TUKO', 'ANGELITO', 'XJEMX', 'PELITOS', 'ROOON', 'LUMIERE', 'RSS3226', 'GODDISH', 'SALEMCAT', 'REHINHARD', 'SCR34M', 'CH0CO', 'AIRPORTK', 'KETCHY', 'NAYAK', 'AXELPIU', 'ILB', 'KOKONA', 'FONG', 'JOGA', 'TENS', 'EGGPLANT', 'CRRRRRAZY', 'EKKAMAI', 'XALB3RTX', 'YIANPEX', 'CHANWOOLIM', 'EXVERTEX', 'TIMEOUT', 'XLUPISX', 'HITMAN', 'TRIGGER', 'LUISSSSSSSSS', 'CHEETAH', 'CYGA', 'BETOCAMA', 'CANONWAR', 'PAOH', 'WALTERTORO', 'ALIN', 'RADIANT', 'CARNIVOR', 'BARBON', 'THK', 'SHACO', 'GEM', 'DEATHXSIGNS', 'JERRYWHYMARI', 'SIMO', 'FXROND', 'GTA199', 'NICOQLOO', 'JUSTIN', 'V0RT3XC1950', 'SLAYERS', 'FILMERZ', 'JUANKY', 'EIGUNT', 'GPC5', 'HNGEAR', 'YULIUS88', 'GISEL', 'LILAC', 'TSUCCHO', 'JSANTA', 'EXPLAYER', 'KASANETETO', 'MRCRIS', 'JAZYANGIE', 'ILEYANA', 'DELY', 'FROG', 'VELOVEEE', 'RICHARDK', 'MANWOL', 'XXBILLYXR', 'LOKYXD', 'ONEKICKMAN', 'FUNKTION', 'GO', 'DAMETIME003', 'SPACE', 'OMICRON', 'CONPYU', 'NABIILA', 'SINGER', 'FAIRY213', 'NEFISTOARTE', 'VIVIAN', 'LAIN', 'VIRKATO', 'NATERA', 'IIIIIXDIIIII', 'WAFFURU', 'MARKV', 'CHIKISBBOF', 'THEBLACK', 'GUNXXXXGPTOZ', 'MARATOAD', 'GENESYS', 'YOSHYZ2', 'KIMGJ', 'RUFFLES', 'LIZZZZZY', 'PUMPGAENOJAM', 'YULLIZHEZ', 'NAMELESS', 'IGONAN', 'PUPWINTER', 'WARIOIIDX', 'SHISHINKEI', 'BIFF', 'XYANDELX', 'TZUYU', 'PUMPTROOPERS', 'LIMSTAR', 'NINOSANTOSPH', 'TAMALVERDE', 'INSANG', 'ALARGUII', 'DRAKEN', 'BATTLEXCATS', 'CUYUNG', 'ZAITO', 'KOITSU', 'HIGHMAN', 'CHEYOZ', 'KENNY970', 'VVWVVVWVWVWV', 'ATHENA', 'PELON', 'GIRUCA', 'SOLOMING', 'HELLSINGKO', 'MIKIPUMP', 'MIZZA', 'BIN', 'KAIO', 'OKAMI8', 'SIGN4TURE', 'CHOKLIWI', 'JARK', 'WPGNS874', 'ACKERMAN', 'HEROINEE', 'MOFKY', 'AHSIBAL', 'BOWSHI', 'CATLUNA', 'JUNIOR', 'ONIBITO', 'KIMNG', 'IMAZUL', 'ERIKLUNA', 'ZYX4869', 'CHE2', 'XIA', 'NEXTCRAZY', 'RIPPLE', 'HOING2', 'EMMITA', 'DMILLION', 'KAKUDIP', 'ROBERTH', 'JINISION', 'KERNEL', 'REVERSE', 'KUKUDAS', 'DANK', 'KKWAG'}\n",
      "2085\n"
     ]
    }
   ],
   "source": []
  },
  {
   "cell_type": "code",
   "execution_count": 1,
   "metadata": {},
   "outputs": [
    {
     "name": "stdout",
     "output_type": "stream",
     "text": [
      "8\n"
     ]
    }
   ],
   "source": [
    "a = {2: 3, 4:5}\n",
    "\n",
    "print(sum(a.values()))"
   ]
  }
 ],
 "metadata": {
  "kernelspec": {
   "display_name": "base",
   "language": "python",
   "name": "python3"
  },
  "language_info": {
   "codemirror_mode": {
    "name": "ipython",
    "version": 3
   },
   "file_extension": ".py",
   "mimetype": "text/x-python",
   "name": "python",
   "nbconvert_exporter": "python",
   "pygments_lexer": "ipython3",
   "version": "3.11.5"
  }
 },
 "nbformat": 4,
 "nbformat_minor": 2
}
