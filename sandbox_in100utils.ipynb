{
 "cells": [
  {
   "cell_type": "code",
   "execution_count": null,
   "metadata": {},
   "outputs": [],
   "source": []
  },
  {
   "cell_type": "code",
   "execution_count": 1,
   "metadata": {},
   "outputs": [],
   "source": [
    "from in100_utils import *\n"
   ]
  },
  {
   "cell_type": "code",
   "execution_count": 13,
   "metadata": {},
   "outputs": [
    {
     "data": {
      "text/plain": [
       "False"
      ]
     },
     "execution_count": 13,
     "metadata": {},
     "output_type": "execute_result"
    }
   ],
   "source": [
    "def is_user_valid(username, userid):\n",
    "    if username in user_names_dict:\n",
    "        if  userid in user_names_dict[username]:\n",
    "            return True\n",
    "    return False\n"
   ]
  },
  {
   "cell_type": "code",
   "execution_count": 14,
   "metadata": {},
   "outputs": [
    {
     "ename": "KeyError",
     "evalue": "'EXC 909'",
     "output_type": "error",
     "traceback": [
      "\u001b[1;31m---------------------------------------------------------------------------\u001b[0m",
      "\u001b[1;31mKeyError\u001b[0m                                  Traceback (most recent call last)",
      "Cell \u001b[1;32mIn[14], line 21\u001b[0m\n\u001b[0;32m     18\u001b[0m             \u001b[38;5;28mprint\u001b[39m(\u001b[38;5;124m\"\u001b[39m\u001b[38;5;124mUser is valid\u001b[39m\u001b[38;5;124m\"\u001b[39m)\n\u001b[0;32m     19\u001b[0m     \u001b[38;5;28;01mreturn\u001b[39;00m user\n\u001b[1;32m---> 21\u001b[0m is_user_valid_test(\u001b[38;5;124m\"\u001b[39m\u001b[38;5;124mEXC\u001b[39m\u001b[38;5;124m\"\u001b[39m, \u001b[38;5;124m\"\u001b[39m\u001b[38;5;124m909\u001b[39m\u001b[38;5;124m\"\u001b[39m)\n",
      "Cell \u001b[1;32mIn[14], line 14\u001b[0m, in \u001b[0;36mis_user_valid_test\u001b[1;34m(username, userID)\u001b[0m\n\u001b[0;32m     12\u001b[0m     \u001b[38;5;28mprint\u001b[39m(\u001b[38;5;124m\"\u001b[39m\u001b[38;5;124mUser is valid\u001b[39m\u001b[38;5;124m\"\u001b[39m)\n\u001b[0;32m     13\u001b[0m \u001b[38;5;28;01melse\u001b[39;00m:\n\u001b[1;32m---> 14\u001b[0m     user \u001b[38;5;241m=\u001b[39m return_user_with_name(username \u001b[38;5;241m+\u001b[39m \u001b[38;5;124m\"\u001b[39m\u001b[38;5;124m \u001b[39m\u001b[38;5;124m\"\u001b[39m \u001b[38;5;241m+\u001b[39m userID)\n\u001b[0;32m     15\u001b[0m     \u001b[38;5;28;01mif\u001b[39;00m user \u001b[38;5;241m==\u001b[39m \u001b[38;5;28;01mNone\u001b[39;00m:\n\u001b[0;32m     16\u001b[0m         \u001b[38;5;28mprint\u001b[39m(\u001b[38;5;124m\"\u001b[39m\u001b[38;5;124mUser not found\u001b[39m\u001b[38;5;124m\"\u001b[39m)\n",
      "File \u001b[1;32mc:\\Users\\chorj\\Documents\\GitHub\\PIUin100RankAnalyzer\\in100_utils_submodules.py:120\u001b[0m, in \u001b[0;36mreturn_user_with_name\u001b[1;34m(username)\u001b[0m\n\u001b[0;32m    118\u001b[0m \u001b[38;5;28;01melse\u001b[39;00m:\n\u001b[0;32m    119\u001b[0m     userID \u001b[38;5;241m=\u001b[39m return_user_id_list(username_upper)[\u001b[38;5;241m0\u001b[39m]\n\u001b[1;32m--> 120\u001b[0m \u001b[38;5;28;01mreturn\u001b[39;00m return_user(username_upper, userID)\n",
      "File \u001b[1;32mc:\\Users\\chorj\\Documents\\GitHub\\PIUin100RankAnalyzer\\in100_utils_submodules.py:126\u001b[0m, in \u001b[0;36mreturn_user\u001b[1;34m(username, userID)\u001b[0m\n\u001b[0;32m    124\u001b[0m     userID \u001b[38;5;241m=\u001b[39m \u001b[38;5;124m\"\u001b[39m\u001b[38;5;124m#\u001b[39m\u001b[38;5;124m\"\u001b[39m \u001b[38;5;241m+\u001b[39m \u001b[38;5;28mstr\u001b[39m(userID)\n\u001b[0;32m    125\u001b[0m username_full \u001b[38;5;241m=\u001b[39m username \u001b[38;5;241m+\u001b[39m \u001b[38;5;124m\"\u001b[39m\u001b[38;5;124m \u001b[39m\u001b[38;5;124m\"\u001b[39m \u001b[38;5;241m+\u001b[39m userID\n\u001b[1;32m--> 126\u001b[0m \u001b[38;5;28;01mreturn\u001b[39;00m user_ranks[username_full]\n",
      "\u001b[1;31mKeyError\u001b[0m: 'EXC 909'"
     ]
    }
   ],
   "source": [
    "\n",
    "def is_user_valid_test(username, userID):\n",
    "    if username == \"\":\n",
    "        print(\"Username is empty\")\n",
    "    list_of_users = list((search_user(username, exact = True)).values())\n",
    "    if len(list_of_users) == 0:\n",
    "        print(\"User not found\")\n",
    "    if userID == \"\":\n",
    "        if len(list_of_users[0]) > 1:\n",
    "            print(\"multiple IDs\")\n",
    "\n",
    "        user = return_user_with_name(username)\n",
    "        print(\"User is valid\")\n",
    "    else:\n",
    "        user = return_user_with_name(username + \" \" + userID)\n",
    "        if user == None:\n",
    "            print(\"User not found\")\n",
    "        else:\n",
    "            print(\"User is valid\")\n",
    "    return user\n",
    "\n",
    "is_user_valid_test(\"EXC\", \"909\")"
   ]
  }
 ],
 "metadata": {
  "kernelspec": {
   "display_name": "base",
   "language": "python",
   "name": "python3"
  },
  "language_info": {
   "codemirror_mode": {
    "name": "ipython",
    "version": 3
   },
   "file_extension": ".py",
   "mimetype": "text/x-python",
   "name": "python",
   "nbconvert_exporter": "python",
   "pygments_lexer": "ipython3",
   "version": "3.11.5"
  }
 },
 "nbformat": 4,
 "nbformat_minor": 2
}
