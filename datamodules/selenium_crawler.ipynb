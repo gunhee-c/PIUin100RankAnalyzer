{
 "cells": [
  {
   "cell_type": "code",
   "execution_count": 44,
   "metadata": {},
   "outputs": [],
   "source": [
    "#pip install selenium"
   ]
  },
  {
   "cell_type": "code",
   "execution_count": 45,
   "metadata": {},
   "outputs": [],
   "source": [
    "from selenium import webdriver\n",
    "from selenium.webdriver.common.by import By\n",
    "from selenium.webdriver.common.keys import Keys\n",
    "from selenium.webdriver.chrome.service import Service\n",
    "from bs4 import BeautifulSoup\n",
    "import time\n",
    "\n",
    "\n",
    "import re\n"
   ]
  },
  {
   "cell_type": "code",
   "execution_count": 46,
   "metadata": {},
   "outputs": [],
   "source": [
    "\n",
    "def return_mode(soup):\n",
    "    soup_mode = str(soup.find(class_ = \"tw\"))\n",
    "    if re.search(r'full/(.*)_text', soup_mode).group(1) == \"s\":\n",
    "        return \"Single\"\n",
    "    return \"Double\"\n",
    "\n",
    "def return_song_name(soup):\n",
    "    return soup.find(class_ = \"song_name\").get_text()\n",
    "\n",
    "def return_score(soup):\n",
    "    return soup.find(class_ = \"txt_v\").get_text()\n",
    "\n",
    "def return_grade(soup):\n",
    "    soup_grade = str(soup.find(class_ = \"img\"))\n",
    "    return re.search(r'grade/(.*).png', soup_grade).group(1)\n",
    "\n",
    "def return_plate(soup):\n",
    "    soup_grade = str(soup.find(class_ = \"img st1\"))\n",
    "    return re.search(r'plate/(.*).png', soup_grade).group(1)\n",
    "\n",
    "def parse_soup_into_record_list(soup):\n",
    "    if soup.find(class_ = \"no_con\") != None:\n",
    "        return []\n",
    "    soup_full = soup.find(class_ = \"my_best_scoreList flex wrap\")\n",
    "    soup_list_raw = soup_full.find_all(class_ = \"in\")\n",
    "    ans = []\n",
    "    if len(soup_list_raw) == 0:\n",
    "        return []\n",
    "    for item in soup_list_raw:\n",
    "        game_mode = return_mode(item)\n",
    "        song_name = return_song_name(item)\n",
    "        score = return_score(item)\n",
    "        grade = return_grade(item)\n",
    "        plate = return_plate(item)\n",
    "        ans.append({\"game_mode\": game_mode, \"song_name\": song_name, \"score\": score, \"grade\": grade, \"plate\": plate})\n",
    "\n",
    "    \n",
    "    return ans\n",
    "\n",
    "def crawl_record_by_level_unit(driver, level, page):\n",
    "    driver.get(f'https://piugame.com/my_page/my_best_score.php?lv={level}&&page={page}')\n",
    "    time.sleep(5)\n",
    "    page_source = driver.page_source\n",
    "    soup = BeautifulSoup(page_source, 'html.parser')\n",
    "    record = parse_soup_into_record_list(soup)\n",
    "    #print(soup.find(class_ = \"xi last\"))\n",
    "    hasnext = soup.find(class_ = \"xi last\") != None\n",
    "    return record, hasnext\n",
    "\n",
    "def crawl_record_by_level(driver, level):\n",
    "    get_next = True\n",
    "    total_record = []\n",
    "    page_index = 1\n",
    "    while(get_next):\n",
    "        print(\"level: \" + str(level)+ \", current index:\" + str(page_index))\n",
    "        record, get_next = crawl_record_by_level_unit(driver, level, page_index)\n",
    "        for item in record:\n",
    "            total_record.append(item)\n",
    "        time.sleep(5)\n",
    "        page_index += 1\n",
    "\n",
    "    return total_record\n",
    "\n",
    "#returns: song name, score, grade, plate\n",
    "\n",
    "\n",
    "# Set up the Selenium WebDriver\n",
    "def selenium_login(ID, password):\n",
    "    driver = webdriver.Chrome()\n",
    "    # Navigate to the login page\n",
    "    driver.get('https://piugame.com')\n",
    "\n",
    "    # Find the username and password input fields and enter your credentials\n",
    "    username = driver.find_element(By.NAME, 'mb_id')  # Adjust the name attribute if necessary\n",
    "    password = driver.find_element(By.NAME, 'mb_password')  # Adjust the name attribute if necessary\n",
    "\n",
    "    username.send_keys('chorjgml@naver.com')\n",
    "    password.send_keys('helloworld1!')\n",
    "    password.send_keys(Keys.RETURN)\n",
    "    #\n",
    "    time.sleep(5)\n",
    "    return driver\n",
    "    # Submit the login form\n",
    "    #river.find_element(By.CLASS_NAME, 'btn st1').click()\n",
    "    # Wait for the page to load (adjust the sleep time if necessary)\n",
    "\n",
    "\n"
   ]
  },
  {
   "cell_type": "code",
   "execution_count": 47,
   "metadata": {},
   "outputs": [
    {
     "ename": "NoSuchWindowException",
     "evalue": "Message: no such window: target window already closed\nfrom unknown error: web view not found\n  (Session info: chrome=124.0.6367.203)\nStacktrace:\n\tGetHandleVerifier [0x00007FF60DEE1522+60802]\n\t(No symbol) [0x00007FF60DE5AC22]\n\t(No symbol) [0x00007FF60DD17CE4]\n\t(No symbol) [0x00007FF60DCEDFDF]\n\t(No symbol) [0x00007FF60DD91E57]\n\t(No symbol) [0x00007FF60DDA98D1]\n\t(No symbol) [0x00007FF60DD8A923]\n\t(No symbol) [0x00007FF60DD58FEC]\n\t(No symbol) [0x00007FF60DD59C21]\n\tGetHandleVerifier [0x00007FF60E1E41BD+3217949]\n\tGetHandleVerifier [0x00007FF60E226157+3488183]\n\tGetHandleVerifier [0x00007FF60E21F0DF+3459391]\n\tGetHandleVerifier [0x00007FF60DF9B8E6+823622]\n\t(No symbol) [0x00007FF60DE65FBF]\n\t(No symbol) [0x00007FF60DE60EE4]\n\t(No symbol) [0x00007FF60DE61072]\n\t(No symbol) [0x00007FF60DE518C4]\n\tBaseThreadInitThunk [0x00007FFEB138257D+29]\n\tRtlUserThreadStart [0x00007FFEB20CAA48+40]\n",
     "output_type": "error",
     "traceback": [
      "\u001b[1;31m---------------------------------------------------------------------------\u001b[0m",
      "\u001b[1;31mNoSuchWindowException\u001b[0m                     Traceback (most recent call last)",
      "Cell \u001b[1;32mIn[47], line 1\u001b[0m\n\u001b[1;32m----> 1\u001b[0m driver \u001b[38;5;241m=\u001b[39m selenium_login(\u001b[38;5;124m'\u001b[39m\u001b[38;5;124mchorjgml@naver.com\u001b[39m\u001b[38;5;124m'\u001b[39m, \u001b[38;5;124m'\u001b[39m\u001b[38;5;124mhelloworld1!\u001b[39m\u001b[38;5;124m'\u001b[39m)\n\u001b[0;32m      2\u001b[0m total_record_25 \u001b[38;5;241m=\u001b[39m crawl_record_by_level(driver, \u001b[38;5;241m25\u001b[39m)\n\u001b[0;32m      3\u001b[0m \u001b[38;5;28mprint\u001b[39m(\u001b[38;5;28mlen\u001b[39m(total_record_25))\n",
      "Cell \u001b[1;32mIn[46], line 76\u001b[0m, in \u001b[0;36mselenium_login\u001b[1;34m(ID, password)\u001b[0m\n\u001b[0;32m     73\u001b[0m driver\u001b[38;5;241m.\u001b[39mget(\u001b[38;5;124m'\u001b[39m\u001b[38;5;124mhttps://piugame.com\u001b[39m\u001b[38;5;124m'\u001b[39m)\n\u001b[0;32m     75\u001b[0m \u001b[38;5;66;03m# Find the username and password input fields and enter your credentials\u001b[39;00m\n\u001b[1;32m---> 76\u001b[0m username \u001b[38;5;241m=\u001b[39m driver\u001b[38;5;241m.\u001b[39mfind_element(By\u001b[38;5;241m.\u001b[39mNAME, \u001b[38;5;124m'\u001b[39m\u001b[38;5;124mmb_id\u001b[39m\u001b[38;5;124m'\u001b[39m)  \u001b[38;5;66;03m# Adjust the name attribute if necessary\u001b[39;00m\n\u001b[0;32m     77\u001b[0m password \u001b[38;5;241m=\u001b[39m driver\u001b[38;5;241m.\u001b[39mfind_element(By\u001b[38;5;241m.\u001b[39mNAME, \u001b[38;5;124m'\u001b[39m\u001b[38;5;124mmb_password\u001b[39m\u001b[38;5;124m'\u001b[39m)  \u001b[38;5;66;03m# Adjust the name attribute if necessary\u001b[39;00m\n\u001b[0;32m     79\u001b[0m username\u001b[38;5;241m.\u001b[39msend_keys(\u001b[38;5;124m'\u001b[39m\u001b[38;5;124mchorjgml@naver.com\u001b[39m\u001b[38;5;124m'\u001b[39m)\n",
      "File \u001b[1;32mc:\\Users\\chorj\\anaconda3\\Lib\\site-packages\\selenium\\webdriver\\remote\\webdriver.py:741\u001b[0m, in \u001b[0;36mWebDriver.find_element\u001b[1;34m(self, by, value)\u001b[0m\n\u001b[0;32m    738\u001b[0m     by \u001b[38;5;241m=\u001b[39m By\u001b[38;5;241m.\u001b[39mCSS_SELECTOR\n\u001b[0;32m    739\u001b[0m     value \u001b[38;5;241m=\u001b[39m \u001b[38;5;124mf\u001b[39m\u001b[38;5;124m'\u001b[39m\u001b[38;5;124m[name=\u001b[39m\u001b[38;5;124m\"\u001b[39m\u001b[38;5;132;01m{\u001b[39;00mvalue\u001b[38;5;132;01m}\u001b[39;00m\u001b[38;5;124m\"\u001b[39m\u001b[38;5;124m]\u001b[39m\u001b[38;5;124m'\u001b[39m\n\u001b[1;32m--> 741\u001b[0m \u001b[38;5;28;01mreturn\u001b[39;00m \u001b[38;5;28mself\u001b[39m\u001b[38;5;241m.\u001b[39mexecute(Command\u001b[38;5;241m.\u001b[39mFIND_ELEMENT, {\u001b[38;5;124m\"\u001b[39m\u001b[38;5;124musing\u001b[39m\u001b[38;5;124m\"\u001b[39m: by, \u001b[38;5;124m\"\u001b[39m\u001b[38;5;124mvalue\u001b[39m\u001b[38;5;124m\"\u001b[39m: value})[\u001b[38;5;124m\"\u001b[39m\u001b[38;5;124mvalue\u001b[39m\u001b[38;5;124m\"\u001b[39m]\n",
      "File \u001b[1;32mc:\\Users\\chorj\\anaconda3\\Lib\\site-packages\\selenium\\webdriver\\remote\\webdriver.py:347\u001b[0m, in \u001b[0;36mWebDriver.execute\u001b[1;34m(self, driver_command, params)\u001b[0m\n\u001b[0;32m    345\u001b[0m response \u001b[38;5;241m=\u001b[39m \u001b[38;5;28mself\u001b[39m\u001b[38;5;241m.\u001b[39mcommand_executor\u001b[38;5;241m.\u001b[39mexecute(driver_command, params)\n\u001b[0;32m    346\u001b[0m \u001b[38;5;28;01mif\u001b[39;00m response:\n\u001b[1;32m--> 347\u001b[0m     \u001b[38;5;28mself\u001b[39m\u001b[38;5;241m.\u001b[39merror_handler\u001b[38;5;241m.\u001b[39mcheck_response(response)\n\u001b[0;32m    348\u001b[0m     response[\u001b[38;5;124m\"\u001b[39m\u001b[38;5;124mvalue\u001b[39m\u001b[38;5;124m\"\u001b[39m] \u001b[38;5;241m=\u001b[39m \u001b[38;5;28mself\u001b[39m\u001b[38;5;241m.\u001b[39m_unwrap_value(response\u001b[38;5;241m.\u001b[39mget(\u001b[38;5;124m\"\u001b[39m\u001b[38;5;124mvalue\u001b[39m\u001b[38;5;124m\"\u001b[39m, \u001b[38;5;28;01mNone\u001b[39;00m))\n\u001b[0;32m    349\u001b[0m     \u001b[38;5;28;01mreturn\u001b[39;00m response\n",
      "File \u001b[1;32mc:\\Users\\chorj\\anaconda3\\Lib\\site-packages\\selenium\\webdriver\\remote\\errorhandler.py:229\u001b[0m, in \u001b[0;36mErrorHandler.check_response\u001b[1;34m(self, response)\u001b[0m\n\u001b[0;32m    227\u001b[0m         alert_text \u001b[38;5;241m=\u001b[39m value[\u001b[38;5;124m\"\u001b[39m\u001b[38;5;124malert\u001b[39m\u001b[38;5;124m\"\u001b[39m]\u001b[38;5;241m.\u001b[39mget(\u001b[38;5;124m\"\u001b[39m\u001b[38;5;124mtext\u001b[39m\u001b[38;5;124m\"\u001b[39m)\n\u001b[0;32m    228\u001b[0m     \u001b[38;5;28;01mraise\u001b[39;00m exception_class(message, screen, stacktrace, alert_text)  \u001b[38;5;66;03m# type: ignore[call-arg]  # mypy is not smart enough here\u001b[39;00m\n\u001b[1;32m--> 229\u001b[0m \u001b[38;5;28;01mraise\u001b[39;00m exception_class(message, screen, stacktrace)\n",
      "\u001b[1;31mNoSuchWindowException\u001b[0m: Message: no such window: target window already closed\nfrom unknown error: web view not found\n  (Session info: chrome=124.0.6367.203)\nStacktrace:\n\tGetHandleVerifier [0x00007FF60DEE1522+60802]\n\t(No symbol) [0x00007FF60DE5AC22]\n\t(No symbol) [0x00007FF60DD17CE4]\n\t(No symbol) [0x00007FF60DCEDFDF]\n\t(No symbol) [0x00007FF60DD91E57]\n\t(No symbol) [0x00007FF60DDA98D1]\n\t(No symbol) [0x00007FF60DD8A923]\n\t(No symbol) [0x00007FF60DD58FEC]\n\t(No symbol) [0x00007FF60DD59C21]\n\tGetHandleVerifier [0x00007FF60E1E41BD+3217949]\n\tGetHandleVerifier [0x00007FF60E226157+3488183]\n\tGetHandleVerifier [0x00007FF60E21F0DF+3459391]\n\tGetHandleVerifier [0x00007FF60DF9B8E6+823622]\n\t(No symbol) [0x00007FF60DE65FBF]\n\t(No symbol) [0x00007FF60DE60EE4]\n\t(No symbol) [0x00007FF60DE61072]\n\t(No symbol) [0x00007FF60DE518C4]\n\tBaseThreadInitThunk [0x00007FFEB138257D+29]\n\tRtlUserThreadStart [0x00007FFEB20CAA48+40]\n"
     ]
    }
   ],
   "source": [
    "\n",
    "driver = selenium_login('chorjgml@naver.com', 'helloworld1!')"
   ]
  },
  {
   "cell_type": "code",
   "execution_count": null,
   "metadata": {},
   "outputs": [],
   "source": [
    "total_record_24 = crawl_record_by_level(driver, 24)\n",
    "total_record_23 = crawl_record_by_level(driver, 23)\n",
    "total_record_22 = crawl_record_by_level(driver, 22)\n",
    "total_record_21 = crawl_record_by_level(driver, 21)\n",
    "total_record_20 = crawl_record_by_level(driver, 20)\n",
    "\n"
   ]
  },
  {
   "cell_type": "code",
   "execution_count": 50,
   "metadata": {},
   "outputs": [],
   "source": [
    "import json\n",
    "abel_record = {\"20\": total_record_20, \"21\": total_record_21, \"22\": total_record_22, \"23\": total_record_23, \"24\": total_record_24, \"25\": total_record_25}\n",
    "json.dump(abel_record, open(\"abel_record.json\", \"w\"), ensure_ascii = False)"
   ]
  }
 ],
 "metadata": {
  "kernelspec": {
   "display_name": "base",
   "language": "python",
   "name": "python3"
  },
  "language_info": {
   "codemirror_mode": {
    "name": "ipython",
    "version": 3
   },
   "file_extension": ".py",
   "mimetype": "text/x-python",
   "name": "python",
   "nbconvert_exporter": "python",
   "pygments_lexer": "ipython3",
   "version": "3.11.5"
  }
 },
 "nbformat": 4,
 "nbformat_minor": 2
}
