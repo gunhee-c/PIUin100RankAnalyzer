{
 "cells": [
  {
   "cell_type": "code",
   "execution_count": 1,
   "metadata": {},
   "outputs": [],
   "source": [
    "date_spot = \"2024.06.19\""
   ]
  },
  {
   "cell_type": "code",
   "execution_count": 2,
   "metadata": {},
   "outputs": [],
   "source": [
    "import json\n",
    "\n",
    "import pandas as pd\n",
    "\n",
    "song_info = pd.read_csv(\"songList_temp.csv\")\n"
   ]
  },
  {
   "cell_type": "code",
   "execution_count": 3,
   "metadata": {},
   "outputs": [
    {
     "data": {
      "text/plain": [
       "('PHOENIX', 'Arcade')"
      ]
     },
     "execution_count": 3,
     "metadata": {},
     "output_type": "execute_result"
    }
   ],
   "source": [
    "def find_version_and_songtype(song_info, songname):\n",
    "    song_info = song_info[song_info[\"song\"] == songname]\n",
    "    if song_info.shape[0] == 0:\n",
    "        return None, None\n",
    "    return song_info[\"version\"].values[0], song_info[\"song_type\"].values[0]\n",
    "\n",
    "find_version_and_songtype(song_info, \"STAGER\")"
   ]
  },
  {
   "cell_type": "code",
   "execution_count": 4,
   "metadata": {},
   "outputs": [
    {
     "name": "stdout",
     "output_type": "stream",
     "text": [
      "rankdata_27over\n",
      "rankdata_26\n",
      "rankdata_25\n",
      "rankdata_24\n",
      "rankdata_23\n",
      "rankdata_22\n",
      "rankdata_21\n",
      "rankdata_20\n"
     ]
    }
   ],
   "source": [
    "\n",
    "def get_user_set_unit(rank):\n",
    "    user_set = set()\n",
    "    for item in rank:\n",
    "        for instance in rank[item]:\n",
    "            user_set.add(instance[\"username\"] + \" \" + instance[\"userid\"])\n",
    "\n",
    "    return user_set\n",
    "\n",
    "#전체 랭킹 데이터에 포함된 user명의 set을 구함 user_name + \" \" + user_id\n",
    "def get_user_set(ranks):\n",
    "    user_set = set()\n",
    "    for rank in ranks:\n",
    "        user_set = user_set.union(get_user_set_unit(rank))\n",
    "    return user_set\n",
    "\n",
    "#중복된 유저명이 있는지 확인\n",
    "def get_duplicate_usernames_dict(user_set):\n",
    "    user_dict = {}\n",
    "    for user in user_set:\n",
    "        username = user.split()[0]\n",
    "        if username not in user_dict:\n",
    "            user_dict[username] = [user.split()[1]]\n",
    "        else:\n",
    "            user_dict[username].append(user.split()[1])\n",
    "\n",
    "    filtered_dict = {k: v for k, v in user_dict.items() if len(v) > 1}\n",
    "    return filtered_dict\n",
    "\n",
    "def find_user(data, username, user_id = None):\n",
    "    if user_id != None:\n",
    "        if type(user_id) == int:\n",
    "            user_id = \"#\"+ str(user_id)\n",
    "    #print(user_id)\n",
    "    instances = []\n",
    "    for item in data:\n",
    "        for instance in data[item]:\n",
    "            if instance[\"username\"] == username and (user_id == None or instance[\"userid\"] == user_id):\n",
    "                instances.append(instance)\n",
    "    return instances\n",
    "\n",
    "#Username/user_id가 일치하는 랭킹 정보를 수집함\n",
    "def find_user_all(ranks, username, user_id = None):\n",
    "    ans = []\n",
    "    for instance in ranks:\n",
    "        instances = find_user(instance, username, user_id)\n",
    "        ans.append(instances)\n",
    "    flattened_ans = [val for sublist in ans for val in sublist]\n",
    "    return flattened_ans\n",
    "\n",
    "#모든 유저의 랭킹 정보를 수집함 모든 유저들을 포함하는 집합을 만들고 그 유저들의 랭킹 정보를 수집함\n",
    "def collect_all_userdata(ranks):\n",
    "    user_set = get_user_set(ranks)\n",
    "    user_dict = {}\n",
    "    for user in user_set:\n",
    "        username = user.split()[0]\n",
    "        user_id = user.split()[1]\n",
    "        instances = find_user_all(ranks, username, user_id)\n",
    "        user_dict[user] = instances\n",
    "    return user_dict\n",
    "\n",
    "\n",
    "def get_all_rankdata(date_spot):\n",
    "    filepath = \"in100RankData/\" + date_spot\n",
    "    ranks = [\"rankdata_27over\", \"rankdata_26\", \"rankdata_25\", \"rankdata_24\",\"rankdata_23\",\"rankdata_22\",\"rankdata_21\",\"rankdata_20\"]\n",
    "    all_rankdata = []\n",
    "    for rank in ranks:\n",
    "        print(rank)\n",
    "        current_rank = json.load(open(filepath + \"/\" + rank + \".json\"))\n",
    "        all_rankdata.append(current_rank)\n",
    "    return all_rankdata\n",
    "\n",
    "rank_all = get_all_rankdata(date_spot)\n",
    "total_rank_raw = collect_all_userdata(rank_all)"
   ]
  },
  {
   "cell_type": "code",
   "execution_count": null,
   "metadata": {},
   "outputs": [],
   "source": []
  },
  {
   "cell_type": "code",
   "execution_count": 5,
   "metadata": {},
   "outputs": [
    {
     "name": "stdout",
     "output_type": "stream",
     "text": [
      "404\n"
     ]
    }
   ],
   "source": [
    "def get_song_info(song_csv, song_name):\n",
    "    for i in range(len(song_csv[\"song\"])):\n",
    "        if song_csv[\"song\"][i].lower() == song_name.lower():\n",
    "            song_type = song_csv[\"song_type\"][i]\n",
    "            song_version = song_csv[\"version\"][i]\n",
    "            return song_type, song_version\n",
    "    print(\"Song not found in the songlist\")\n",
    "    return \"N/A\", \"N/A\"\n",
    "\n",
    "def get_all_song_titles(level):\n",
    "    set_song_titles = set()\n",
    "    song_titles = list(level.keys())\n",
    "    for item in song_titles:\n",
    "        set_song_titles.add(item[:-9])\n",
    "    return set_song_titles\n",
    "\n",
    "\n",
    "all_songs = set()\n",
    "for item in rank_all:\n",
    "    all_songs = all_songs.union(get_all_song_titles(item))\n",
    "\n",
    "print(len(all_songs))\n",
    "for item in all_songs:\n",
    "    if item not in song_info[\"song\"].values:\n",
    "        print(item)"
   ]
  },
  {
   "cell_type": "code",
   "execution_count": 6,
   "metadata": {},
   "outputs": [],
   "source": [
    "def DA_0():\n",
    "    return [[0,0,0],[0,0,0],[0,0,0],[0,0,0]]\n",
    "def DA_l():\n",
    "    return [[[],[],[]],[[],[],[]],[[],[],[]],[[],[],[]]]\n",
    "\n",
    "def songtype_to_int(songtype):\n",
    "    if songtype == \"Arcade\":\n",
    "        return 0\n",
    "    elif songtype == \"Remix\":\n",
    "        return 1\n",
    "    elif songtype == \"Full Song\":\n",
    "        return 2\n",
    "    elif songtype == \"Short Cut\":\n",
    "        return 3\n",
    "    else:\n",
    "        return -1\n",
    "\n",
    "def version_to_int(version):\n",
    "    if version == \"PHOENIX\":\n",
    "        return 0\n",
    "    elif version == \"XX\":\n",
    "        return 1\n",
    "    else:\n",
    "        return 2\n",
    "\n",
    "def restrict_level_range(levels):\n",
    "    if levels[1] > 28: levels[1] = 28\n",
    "    if levels[0] < 20:\n",
    "        levels[0] = 20\n",
    "    return levels\n",
    "\n",
    "def add_dict(a, b):\n",
    "    for item in b:\n",
    "        if item in a:\n",
    "            a[item] += b[item]\n",
    "        else:\n",
    "            a[item] = b[item]\n",
    "    return a\n",
    "\n",
    "def get_song_version_int_list(songtype, version):\n",
    "    songtypeint = []\n",
    "    for item in songtype:\n",
    "        songtypeint.append(songtype_to_int(item))\n",
    "    versionint = []\n",
    "    for item in version:\n",
    "        versionint.append(version_to_int(item))\n",
    "    return songtypeint, versionint\n",
    "\n",
    "version_all = [\"PHOENIX\", \"XX\", \"OLD\"]\n",
    "songtype_all = [\"Arcade\", \"Remix\", \"Full Song\", \"Short Cut\"]\n"
   ]
  },
  {
   "cell_type": "code",
   "execution_count": 7,
   "metadata": {},
   "outputs": [
    {
     "data": {
      "text/plain": [
       "{'song': 'Paradoxx',\n",
       " 'mode': 'Single',\n",
       " 'level': 26,\n",
       " 'username': 'R2RO',\n",
       " 'userid': '#4985',\n",
       " 'score': 974246,\n",
       " 'rank': 1}"
      ]
     },
     "execution_count": 7,
     "metadata": {},
     "output_type": "execute_result"
    }
   ],
   "source": [
    "rank_all[1][\"Paradoxx Single26\"][0]"
   ]
  },
  {
   "cell_type": "code",
   "execution_count": 8,
   "metadata": {},
   "outputs": [
    {
     "data": {
      "text/plain": [
       "[0, 0, 0]"
      ]
     },
     "execution_count": 8,
     "metadata": {},
     "output_type": "execute_result"
    }
   ],
   "source": [
    "levels = [\"20\", \"21\", \"22\", \"23\", \"24\", \"25\", \"26\", \"27\", \"28\"]\n",
    "single_dict = {}\n",
    "double_dict = {}\n",
    "for item in levels:\n",
    "    double_dict[item] = DA_0()\n",
    "    if levels != \"28\" or levels != \"27\":\n",
    "        single_dict[item] = DA_0()\n",
    "total_rank = {\"Single\": single_dict, \"Double\": double_dict}\n",
    "\n",
    "total_rank['Single']['20'][0]"
   ]
  },
  {
   "cell_type": "code",
   "execution_count": 9,
   "metadata": {},
   "outputs": [
    {
     "data": {
      "text/plain": [
       "{'Single': {'20': [[0, 0, 0], [0, 0, 0], [0, 0, 0], [0, 0, 82]],\n",
       "  '21': [[0, 0, 0], [0, 0, 0], [0, 0, 0], [0, 0, 96]],\n",
       "  '22': [[0, 0, 0], [0, 0, 0], [0, 0, 0], [0, 0, 51]],\n",
       "  '23': [[0, 0, 0], [0, 0, 0], [0, 0, 0], [0, 0, 27]],\n",
       "  '24': [[0, 0, 0], [0, 0, 0], [0, 0, 0], [0, 0, 9]],\n",
       "  '25': [[0, 0, 0], [0, 0, 0], [0, 0, 0], [0, 0, 5]],\n",
       "  '26': [[0, 0, 0], [0, 0, 0], [0, 0, 0], [0, 0, 1]],\n",
       "  '27': [[0, 0, 0], [0, 0, 0], [0, 0, 0], [0, 0, 0]],\n",
       "  '28': [[0, 0, 0], [0, 0, 0], [0, 0, 0], [0, 0, 0]]},\n",
       " 'Double': {'20': [[0, 0, 0], [0, 0, 0], [0, 0, 0], [0, 0, 124]],\n",
       "  '21': [[0, 0, 0], [0, 0, 0], [0, 0, 0], [0, 0, 107]],\n",
       "  '22': [[0, 0, 0], [0, 0, 0], [0, 0, 0], [0, 0, 103]],\n",
       "  '23': [[0, 0, 0], [0, 0, 0], [0, 0, 0], [0, 0, 85]],\n",
       "  '24': [[0, 0, 0], [0, 0, 0], [0, 0, 0], [0, 0, 66]],\n",
       "  '25': [[0, 0, 0], [0, 0, 0], [0, 0, 0], [0, 0, 39]],\n",
       "  '26': [[0, 0, 0], [0, 0, 0], [0, 0, 0], [0, 0, 23]],\n",
       "  '27': [[0, 0, 0], [0, 0, 0], [0, 0, 0], [0, 0, 6]],\n",
       "  '28': [[0, 0, 0], [0, 0, 0], [0, 0, 0], [0, 0, 2]]}}"
      ]
     },
     "execution_count": 9,
     "metadata": {},
     "output_type": "execute_result"
    }
   ],
   "source": [
    "for item in rank_all:\n",
    "    list_raw = list(item.keys())\n",
    "    for song in list_raw:\n",
    "        testme = item[song][0]\n",
    "        version, songtype = find_version_and_songtype(song_info, song)\n",
    "        level = str(testme['level'])\n",
    "        mode = testme['mode']\n",
    "        #print(songtype, version, level, mode)\n",
    "        songtypeint = songtype_to_int(songtype)\n",
    "        versionint = version_to_int(version)\n",
    "        #print(songtypeint, versionint)\n",
    "        #print(\"wat\")\n",
    "        total_rank[mode][level][songtypeint][versionint] += 1\n",
    "\n",
    "total_rank\n",
    "    \n",
    "#with open(\"total_steps_count.json\", \"w\") as outfile:\n",
    "#    json.dump(total_rank, outfile)"
   ]
  },
  {
   "cell_type": "code",
   "execution_count": 10,
   "metadata": {},
   "outputs": [
    {
     "data": {
      "text/plain": [
       "([82, 96, 51, 27, 9, 5, 1, 0, 0], [124, 107, 103, 85, 66, 39, 23, 6, 2])"
      ]
     },
     "execution_count": 10,
     "metadata": {},
     "output_type": "execute_result"
    }
   ],
   "source": [
    "check_raw = []\n",
    "for item in rank_all:\n",
    "    check_raw.append(len(item.keys()))\n",
    "check_raw\n",
    "check_single = []\n",
    "check_double = []\n",
    "for item2 in total_rank['Single']:\n",
    "    count = 0\n",
    "    for item in total_rank['Single'][item2]:\n",
    "        count += sum(item)\n",
    "    check_single.append(count)\n",
    "for item3 in total_rank['Double']:\n",
    "    count = 0\n",
    "    for item in total_rank['Double'][item3]:\n",
    "        count += sum(item)\n",
    "    check_double.append(count)\n",
    "\n",
    "check_single, check_double"
   ]
  },
  {
   "cell_type": "code",
   "execution_count": 11,
   "metadata": {},
   "outputs": [],
   "source": [
    "\n",
    "class UserRank:\n",
    "    \n",
    "    def __init__(self, key, rank_dict_list):\n",
    "        self.key = key\n",
    "        username, userID = key.split()\n",
    "        self.username = username\n",
    "        self.userID = userID\n",
    "        self.single_data = {key: DA_l() for key in range(20, 27)}\n",
    "        self.single_counts = {key: DA_0() for key in range(20, 27)}\n",
    "        self.double_data = {key: DA_l() for key in range(20, 29)}\n",
    "        self.double_counts = {key: DA_0() for key in range(20, 29)}\n",
    "        self.read_rank_dict(rank_dict_list)\n",
    "\n",
    "            \n",
    "    def read_rank_dict(self, rank_dict_list):\n",
    "        for item in rank_dict_list:\n",
    "            songname = item[\"song\"]\n",
    "            song_type, song_version = get_song_info(song_info, songname)\n",
    "            item[\"type\"] = song_type\n",
    "            item[\"version\"] = song_version\n",
    "            level = item[\"level\"]\n",
    "            mode = item[\"mode\"]\n",
    "            typeint, versionint = songtype_to_int(item[\"type\"]), version_to_int(item[\"version\"])\n",
    "\n",
    "            if mode == \"Single\":\n",
    "                self.single_data[level][typeint][versionint].append(item)\n",
    "                self.single_counts[level][typeint][versionint] += 1\n",
    "            elif mode == \"Double\":\n",
    "                self.double_data[level][typeint][versionint].append(item)\n",
    "                self.double_counts[level][typeint][versionint] += 1\n",
    "\n",
    "    def count_total(self):\n",
    "        count = 0\n",
    "        for level in range(20, 27):\n",
    "            for songtype in range(4):\n",
    "                for version in range(3):\n",
    "                    count += self.single_counts[level][songtype][version]\n",
    "        for level in range(20, 29):\n",
    "            for songtype in range(4):\n",
    "                for version in range(3):\n",
    "                    count += self.double_counts[level][songtype][version]\n",
    "        return count\n",
    "\n",
    "        \n",
    "    def to_dict(self):\n",
    "        return {\n",
    "            \"key\": self.key,\n",
    "            \"username\": self.username,\n",
    "            \"userID\": self.userID,\n",
    "            \"single_data\": self.single_data,\n",
    "            \"single_counts\": self.single_counts,\n",
    "            \"double_data\": self.double_data,\n",
    "            \"double_counts\": self.double_counts\n",
    "        }\n",
    "   \n",
    "    def __str__(self):\n",
    "        return f\"{self.username} ({self.userID}): {self.count_total()}\"\n",
    "\n",
    "users = {}\n",
    "\n",
    "for key in total_rank_raw:\n",
    "    users[key] = UserRank(key, total_rank_raw[key])\n",
    "users_dict = {key: users[key].to_dict() for key in users}\n",
    "\n",
    "# Dump the new dictionary to a JSON file\n",
    "with open(f\"in100RankData/{date_spot}/user_data.json\", \"w\", encoding=\"utf-8\") as file:\n",
    "    json.dump(users_dict, file, ensure_ascii=False)\n"
   ]
  },
  {
   "cell_type": "code",
   "execution_count": null,
   "metadata": {},
   "outputs": [],
   "source": []
  },
  {
   "cell_type": "code",
   "execution_count": 49,
   "metadata": {},
   "outputs": [],
   "source": [
    "#EXECUTE ALL ABOVE CELLS"
   ]
  }
 ],
 "metadata": {
  "kernelspec": {
   "display_name": "base",
   "language": "python",
   "name": "python3"
  },
  "language_info": {
   "codemirror_mode": {
    "name": "ipython",
    "version": 3
   },
   "file_extension": ".py",
   "mimetype": "text/x-python",
   "name": "python",
   "nbconvert_exporter": "python",
   "pygments_lexer": "ipython3",
   "version": "3.11.5"
  }
 },
 "nbformat": 4,
 "nbformat_minor": 2
}
