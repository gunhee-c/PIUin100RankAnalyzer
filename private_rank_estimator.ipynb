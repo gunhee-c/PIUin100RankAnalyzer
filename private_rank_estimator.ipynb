{
 "cells": [
  {
   "cell_type": "code",
   "execution_count": null,
   "metadata": {},
   "outputs": [],
   "source": [
    "#1949: \n",
    "#https://piugame.com/leaderboard/over_ranking_view.php?no=VVZteERpMEZORWhlUXNmV0FPTkhKZz09\n",
    "#Chimera:\n",
    "\n",
    "#Leather:\n",
    "#https://piugame.com/leaderboard/over_ranking_view.php?no=UGZxbkFEQ2F0dWhnQ29lTzZHY2xyUT09\n",
    "#Escape:\n",
    "#Bemera:\n",
    "#Vacuum Cleaner:"
   ]
  },
  {
   "cell_type": "code",
   "execution_count": null,
   "metadata": {},
   "outputs": [],
   "source": []
  }
 ],
 "metadata": {
  "language_info": {
   "name": "python"
  }
 },
 "nbformat": 4,
 "nbformat_minor": 2
}
